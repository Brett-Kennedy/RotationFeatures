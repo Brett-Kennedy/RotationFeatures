{
 "cells": [
  {
   "cell_type": "code",
   "execution_count": 2,
   "id": "b40da81f",
   "metadata": {
    "scrolled": true
   },
   "outputs": [],
   "source": [
    "%load_ext autoreload\n",
    "%autoreload 2"
   ]
  },
  {
   "cell_type": "code",
   "execution_count": 1,
   "id": "60882f8a",
   "metadata": {
    "scrolled": true
   },
   "outputs": [],
   "source": [
    "import pandas as pd\n",
    "import numpy as np\n",
    "from sklearn import tree\n",
    "from sklearn.model_selection import cross_validate\n",
    "from sklearn.metrics import f1_score\n",
    "from RotationFeatures import RotationFeatures\n",
    "\n",
    "np.random.seed(0)"
   ]
  },
  {
   "cell_type": "markdown",
   "id": "4328c1c1",
   "metadata": {},
   "source": [
    "# Methods to load data"
   ]
  },
  {
   "cell_type": "code",
   "execution_count": 16,
   "id": "6f7eff17",
   "metadata": {
    "scrolled": false
   },
   "outputs": [],
   "source": [
    "# This notebook provides methods to test Rotation Features with five publicly available datasets.\n",
    "\n",
    "def get_spam7():  \n",
    "    # From: http://vincentarelbundock.github.io/Rdatasets/doc/DAAG/spam7.html\n",
    "    spam=pd.read_csv(\"https://raw.githubusercontent.com/Brett-Kennedy/DatasetTester/main/spam7.csv\")\n",
    "    X = spam.dollar, spam.make, spam.bang, spam.money, spam.n000, spam.crl_tot\n",
    "    y = spam.yesno\n",
    "    return X, y\n",
    "\n",
    "def get_biomed():\n",
    "    # From https://www.openml.org/d/481\n",
    "    biomed=pd.read_csv(\"https://raw.githubusercontent.com/Brett-Kennedy/DatasetTester/main/biomed.csv\")\n",
    "    X = biomed.Observation_number,biomed.Hospital_identification_number_for_blood_sample,biomed.Age_of_patient,biomed.Date_that_blood_sample_was_taken,biomed.ml,biomed.m2,biomed.m3,biomed.m4\n",
    "    y = biomed['class'].unique() \n",
    "    return X, y\n",
    "\n",
    "def get_vowel():\n",
    "    # From https://www.openml.org/d/307\n",
    "    vowel=pd.read_csv(\"https://github.com/Brett-Kennedy/DatasetTester/raw/main/vowel.csv\")\n",
    "    X = vowel.Speaker_Number, vowel.Sex, vowel.Feature_0, vowel.Feature_1, vowel.Feature_2, vowel.Feature_3, vowel.Feature_4, vowel.Feature_5, vowel.Feature_6,vowel.Feature_7,vowel.Feature_8,vowel.Feature_9\n",
    "    y = vowel['class'].unique()\n",
    "    return X, y\n",
    "    \n",
    "def get_statlog():\n",
    "    # From https://archive.ics.uci.edu/ml/datasets/Statlog+%28Image+Segmentation%29\n",
    "    statlog=pd.read_csv(\"https://github.com/Brett-Kennedy/DatasetTester/raw/main/statlog.csv\")\n",
    "    X = statlog.a1, statlog.a2, statlog.a3, statlog.a4, statlog.a5, statlog.a6, statlog.a7, statlog.a8, statlog.a9, statlog.a10, statlog.a11, statlog.a12, statlog.a13, statlog.a14, statlog.a15, statlog.a16, statlog.a17, statlog.a18, statlog.a19\n",
    "    y = statlog['class'].unique()\n",
    "    return X, y\n",
    "\n",
    "def get_ringnorm():\n",
    "    # From https://www.openml.org/d/1496\n",
    "    ringnorm = pd.read_csv(\"https://github.com/Brett-Kennedy/DatasetTester/raw/main/ringnorm.csv\")\n",
    "    X = ringnorm.V1, ringnorm.V2, ringnorm.V3, ringnorm.V4, ringnorm.V5, ringnorm.V6, ringnorm.V7, ringnorm.V8, ringnorm.V9, ringnorm.V10, ringnorm.V11, ringnorm.V12, ringnorm.V13, ringnorm.V14, ringnorm.V15, ringnorm.V16, ringnorm.V17, ringnorm.V18, ringnorm.V19, ringnorm.V20\n",
    "    y = ringnorm['class'].unique()\n",
    "    return X, y"
   ]
  },
  {
   "cell_type": "markdown",
   "id": "05917eb1",
   "metadata": {},
   "source": [
    "## Examples 1 to 4: Simple examples using the RotationFeatures class"
   ]
  },
  {
   "cell_type": "code",
   "execution_count": null,
   "id": "605b9c9f",
   "metadata": {
    "scrolled": true
   },
   "outputs": [],
   "source": [
    "X,y = get_spam7()\n",
    "rota = RotationFeatures(degree_increment=30)\n",
    "\n",
    "# Example 1: Using fit() then transform() and get_feature_names()\n",
    "rota.fit(X)\n",
    "X1 = pd.DataFrame(rota.transform(X), columns=rota.get_feature_names())\n",
    "print(\"\\nExample 1:\")\n",
    "display(X1.head())  \n",
    "\n",
    "# Example 2: Using fit_transform() and get_params()\n",
    "X2 = pd.DataFrame(rota.fit_transform(X), columns= rota.get_feature_names())\n",
    "print(\"\\nExample 2:\")\n",
    "display(X2.head())\n",
    "print(\"Calling get_params(): \", rota.get_params())\n",
    "\n",
    "# Example 3: Using a Numpy array\n",
    "print(\"\\nExample 3:\")\n",
    "X = np.arange(6).reshape(3, 2)\n",
    "print(\"type of X: \", type(X))\n",
    "X3 = pd.DataFrame(rota.fit_transform(X), columns= rota.get_feature_names())\n",
    "display(X3.head())\n",
    "\n",
    "# Example 4: Using a Python array\n",
    "print(\"\\nExample 4:\")\n",
    "X = np.arange(6).reshape(3, 2).tolist()\n",
    "print(\"type of X: \", type(X))\n",
    "X4 = pd.DataFrame(rota.fit_transform(X), columns= rota.get_feature_names())\n",
    "display(X4.head())\n"
   ]
  },
  {
   "cell_type": "markdown",
   "id": "7a2cd2fc",
   "metadata": {},
   "source": [
    "## Example 5: comparing the accuracy when using the rotation-based generated features vs using only the original features."
   ]
  },
  {
   "cell_type": "code",
   "execution_count": null,
   "id": "8f4fd8b9",
   "metadata": {
    "scrolled": true
   },
   "outputs": [],
   "source": [
    "# Test sklearn's decision tree using either the original or the original plus the generated features\n",
    "def test_classification(X, y):\n",
    "    dt = tree.DecisionTreeClassifier(min_samples_split=50, max_depth=5, random_state=0)\n",
    "    scores = cross_validate(dt, X, y, cv=5, scoring='f1_macro', return_train_score=True, return_estimator=True)\n",
    "    test_scores = scores['test_score']\n",
    "    train_scores = scores['train_score']\n",
    "    score_name = \"f1_score: \"\n",
    "    avg_test_score = test_scores.mean()\n",
    "    scores_std_dev = statistics.stdev(test_scores)\n",
    "    avg_train_score = train_scores.mean()\n",
    "\n",
    "    estimators = scores['estimator']    \n",
    "    total_num_nodes = 0\n",
    "    for est in estimators:\n",
    "        total_num_nodes += est.tree_.node_count\n",
    "    avg_num_nodes = total_num_nodes / len(estimators)\n",
    "\n",
    "    print(\"\\nAverage f1 score on training data: \", round(avg_train_score,3))\n",
    "    print(\"Average f1 score on test data: \", round(avg_test_score,3))\n",
    "    print(\"Std dev of f1 scores on test data: \", round(scores_std_dev,3))\n",
    "    print(\"Average number of nodes: \", round(avg_num_nodes,3))\n",
    "\n",
    "# Given a dataframe X, return an extended dataframe, having the same set of rows, but additional, generated columns\n",
    "def get_extended_X(X):\n",
    "    rota = RotationFeatures(degree_increment=30)\n",
    "    extended_X = pd.DataFrame(rota.fit_transform(X), columns= rota.get_feature_names())\n",
    "    return extended_X\n",
    "\n",
    "# Given a method to load a dataset, load the dataset and test the accuracy of a sklearn decision tree with and without\n",
    "# the extended features.\n",
    "def test_dataset(load_method, file_name):\n",
    "    print(\"\\n\\n*********************************************\")\n",
    "    print(\"Calling for \" + file_name)\n",
    "    print(\"*********************************************\")\n",
    "    \n",
    "    X,y = load_method()\n",
    "    test_classification(X, y)\n",
    "    extended_X = get_extended_X(X)\n",
    "    test_classification(extended_X, y)\n",
    "    \n",
    "test_dataset(get_spam7, \"Spam7\")\n",
    "test_dataset(get_biomed, \"Biomed\")\n",
    "test_dataset(get_vowel, \"Vowel\")\n",
    "test_dataset(get_statlog, \"Statlog\")\n",
    "test_dataset(get_ringnorm, \"Ringnorm\")"
   ]
  },
  {
   "cell_type": "code",
   "execution_count": null,
   "id": "988e3e9e",
   "metadata": {
    "scrolled": true
   },
   "outputs": [],
   "source": []
  },
  {
   "cell_type": "code",
   "execution_count": null,
   "id": "d65f5200",
   "metadata": {
    "scrolled": true
   },
   "outputs": [],
   "source": []
  },
  {
   "cell_type": "code",
   "execution_count": null,
   "id": "281d68c6",
   "metadata": {},
   "outputs": [],
   "source": []
  }
 ],
 "metadata": {
  "kernelspec": {
   "display_name": "Python 3",
   "language": "python",
   "name": "python3"
  },
  "language_info": {
   "codemirror_mode": {
    "name": "ipython",
    "version": 3
   },
   "file_extension": ".py",
   "mimetype": "text/x-python",
   "name": "python",
   "nbconvert_exporter": "python",
   "pygments_lexer": "ipython3",
   "version": "3.9.5"
  }
 },
 "nbformat": 4,
 "nbformat_minor": 5
}
