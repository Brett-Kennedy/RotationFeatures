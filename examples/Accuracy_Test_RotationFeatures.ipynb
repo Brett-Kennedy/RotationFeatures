{
 "cells": [
  {
   "cell_type": "code",
   "execution_count": 1,
   "id": "9c7c3613",
   "metadata": {},
   "outputs": [],
   "source": [
    "import pandas as pd\n",
    "import numpy as np\n",
    "from sklearn import tree\n",
    "from sklearn.pipeline import Pipeline\n",
    "from warnings import filterwarnings\n",
    "import matplotlib.pyplot as plt\n",
    "\n",
    "# todo: explain how to pip install DatasetsEvaluator, point to github page\n",
    "\n",
    "# todo: put back when done -- update datasets evaluator on pypi and retest -- i added the drop=True\n",
    "#from DatasetsEvaluator import DatasetsEvaluator as de\n",
    "\n",
    "# Todo: remove once have pip install\n",
    "import sys  \n",
    "sys.path.insert(0, 'C:\\python_projects\\RotationFeatures_project\\RotationFeatures')\n",
    "from RotationFeatures import RotationFeatures # todo: fix once have pip install\n",
    "\n",
    "sys.path.insert(0, 'C:\\python_projects\\DatasetsEvaluator_project\\DatasetsEvaluator')\n",
    "import DatasetsEvaluator as de\n",
    "\n",
    "filterwarnings('ignore')\n",
    "np.random.seed(0)"
   ]
  },
  {
   "cell_type": "code",
   "execution_count": 2,
   "id": "43078e09",
   "metadata": {},
   "outputs": [],
   "source": [
    "cache_folder = \"c:\\dataset_cache\"\n",
    "partial_result_folder = \"c:\\\\intermediate_results\""
   ]
  },
  {
   "cell_type": "markdown",
   "id": "fe98d5d7",
   "metadata": {},
   "source": [
    "## Constants Used to Control the Tests Below"
   ]
  },
  {
   "cell_type": "code",
   "execution_count": 3,
   "id": "16e9a0d0",
   "metadata": {},
   "outputs": [],
   "source": [
    "# These specify how many datasets are used in the tests below. Ideally about 50 to 100 datasets would be used,\n",
    "# but these may be set lower. Set to 0 to skip tests. \n",
    "\n",
    "NUM_DATASETS_CLASSIFICATION_DEFAULT = 0\n",
    "NUM_DATASETS_REGRESSION_DEFAULT = 0\n",
    "NUM_DATASETS_CLASSIFICATION_GRID_SEARCH = 2\n",
    "NUM_DATASETS_REGRESSION_GRID_SEARCH = 0"
   ]
  },
  {
   "cell_type": "markdown",
   "id": "f4820faf",
   "metadata": {},
   "source": [
    "# Classification Tests -- With Default Parameters"
   ]
  },
  {
   "cell_type": "markdown",
   "id": "1ec71623",
   "metadata": {},
   "source": [
    "## Define the set of datasets on openml we will test against"
   ]
  },
  {
   "cell_type": "code",
   "execution_count": 4,
   "id": "6830733e",
   "metadata": {},
   "outputs": [],
   "source": [
    "datasets_tester = de.DatasetsTester()\n",
    "\n",
    "matching_datasets = datasets_tester.find_datasets( \n",
    "    problem_type = \"classification\",\n",
    "    min_num_classes = 2,\n",
    "    max_num_classes = 20,\n",
    "    min_num_minority_class = 5,\n",
    "    max_num_minority_class = np.inf,\n",
    "    min_num_features = 0,\n",
    "    max_num_features = np.inf,\n",
    "    min_num_instances = 500,\n",
    "    max_num_instances = 5_000,\n",
    "    min_num_numeric_features = 2,\n",
    "    max_num_numeric_features = 50,\n",
    "    min_num_categorical_features=0,\n",
    "    max_num_categorical_features=50)"
   ]
  },
  {
   "cell_type": "markdown",
   "id": "5c99f9f5",
   "metadata": {},
   "source": [
    "## Collect the datasets and run the tests"
   ]
  },
  {
   "cell_type": "code",
   "execution_count": 5,
   "id": "e654e8dc",
   "metadata": {},
   "outputs": [],
   "source": [
    "# todo: get this working, then update datasetsEvaluator & this on github & pypi\n",
    "datasets_tester.collect_data(max_num_datasets_used=NUM_DATASETS_CLASSIFICATION_DEFAULT, \n",
    "                             preview_data=False, \n",
    "                             save_local_cache=True,\n",
    "                             check_local_cache=True,\n",
    "                             path_local_cache=cache_folder)\n",
    " "
   ]
  },
  {
   "cell_type": "code",
   "execution_count": 6,
   "id": "f8a32897",
   "metadata": {
    "scrolled": false
   },
   "outputs": [
    {
     "name": "stdout",
     "output_type": "stream",
     "text": [
      "\n",
      "Running test on 0 datastets\n"
     ]
    },
    {
     "data": {
      "text/html": [
       "<div>\n",
       "<style scoped>\n",
       "    .dataframe tbody tr th:only-of-type {\n",
       "        vertical-align: middle;\n",
       "    }\n",
       "\n",
       "    .dataframe tbody tr th {\n",
       "        vertical-align: top;\n",
       "    }\n",
       "\n",
       "    .dataframe thead th {\n",
       "        text-align: right;\n",
       "    }\n",
       "</style>\n",
       "<table border=\"1\" class=\"dataframe\">\n",
       "  <thead>\n",
       "    <tr style=\"text-align: right;\">\n",
       "      <th></th>\n",
       "      <th>Dataset Index</th>\n",
       "      <th>Dataset</th>\n",
       "      <th>Dataset Version</th>\n",
       "      <th>Model</th>\n",
       "      <th>Feature Engineering Description</th>\n",
       "      <th>Hyperparameter Description</th>\n",
       "      <th>Avg f1_macro</th>\n",
       "      <th>Std dev between folds</th>\n",
       "      <th>Train-Test Gap</th>\n",
       "      <th># Columns</th>\n",
       "      <th>Model Complexity</th>\n",
       "      <th>Fit Time</th>\n",
       "    </tr>\n",
       "  </thead>\n",
       "  <tbody>\n",
       "  </tbody>\n",
       "</table>\n",
       "</div>"
      ],
      "text/plain": [
       "Empty DataFrame\n",
       "Columns: [Dataset Index, Dataset, Dataset Version, Model, Feature Engineering Description, Hyperparameter Description, Avg f1_macro, Std dev between folds, Train-Test Gap, # Columns, Model Complexity, Fit Time]\n",
       "Index: []"
      ]
     },
     "metadata": {},
     "output_type": "display_data"
    }
   ],
   "source": [
    "pipe1 = Pipeline([('dt', tree.DecisionTreeClassifier(random_state=0))])\n",
    "pipe2 = Pipeline([('rota', RotationFeatures()), ('dt', tree.DecisionTreeClassifier(random_state=0))])\n",
    "\n",
    "# This provides an example using some non-default parameters. \n",
    "summary_df = datasets_tester.run_tests(estimators_arr = [\n",
    "                                        (\"DT\", \"Original Features\", \"Default\", pipe1),\n",
    "                                        (\"DT\", \"Rotation-based Features\", \"Default\", pipe2)],\n",
    "                                       num_cv_folds=3,\n",
    "                                       show_warnings=False,\n",
    "                                       partial_result_folder=partial_result_folder) \n",
    "\n",
    "display(summary_df)"
   ]
  },
  {
   "cell_type": "markdown",
   "id": "c049c44a",
   "metadata": {},
   "source": [
    "## Summarize the results in a table"
   ]
  },
  {
   "cell_type": "code",
   "execution_count": 7,
   "id": "2b1f838f",
   "metadata": {},
   "outputs": [
    {
     "name": "stderr",
     "output_type": "stream",
     "text": [
      "c:\\users\\aymke\\appdata\\local\\programs\\python\\python39\\lib\\site-packages\\ipykernel\\ipkernel.py:283: DeprecationWarning: `should_run_async` will not call `transform_cell` automatically in the future. Please pass the result to `transformed_cell` argument and any exception that happen during thetransform in `preprocessing_exc_tuple` in IPython 7.17 and above.\n",
      "  and should_run_async(code)\n"
     ]
    }
   ],
   "source": [
    "def summarize_results(accuracy_metric, show_std_dev=False):\n",
    "    if (len(summary_df)==0):\n",
    "        return\n",
    "    p = pd.DataFrame(summary_df.groupby(['Model', 'Feature Engineering Description'])[accuracy_metric].mean())\n",
    "    if (show_std_dev):\n",
    "        p['Avg. Std dev between folds'] = summary_df.groupby(['Model', 'Feature Engineering Description'])['Std dev between folds'].mean()\n",
    "    p['Avg. Train-Test Gap'] = summary_df.groupby(['Model', 'Feature Engineering Description'])['Train-Test Gap'].mean()\n",
    "    p['Avg. Fit Time'] = summary_df.groupby(['Model', 'Feature Engineering Description'])['Fit Time'].mean()\n",
    "    p['Avg. Complexity'] = summary_df.groupby(['Model', 'Feature Engineering Description'])['Model Complexity'].mean()\n",
    "    display(p)    "
   ]
  },
  {
   "cell_type": "code",
   "execution_count": 8,
   "id": "9be498dd",
   "metadata": {},
   "outputs": [],
   "source": [
    "summarize_results('Avg f1_macro')"
   ]
  },
  {
   "cell_type": "markdown",
   "id": "25026f9a",
   "metadata": {},
   "source": [
    "## Graph the Results"
   ]
  },
  {
   "cell_type": "code",
   "execution_count": 9,
   "id": "8ca5e4b2",
   "metadata": {},
   "outputs": [],
   "source": [
    "def plot_results(summary_df, accuracy_metric):\n",
    "    if (len(summary_df)==0):\n",
    "        return\n",
    "    \n",
    "    # Collect the set of all combinations of model type and feature engineering. In this example, there\n",
    "    # should just be the two.\n",
    "    combinations_df = summary_df.groupby(['Model', 'Feature Engineering Description']).size().reset_index()\n",
    "\n",
    "    summary_df = summary_df.dropna(subset=[accuracy_metric])\n",
    "\n",
    "    # Draw a single plot, with a line for each feature engineering description. Along the x-axis we have each\n",
    "    # dataset ordered by lowest to highest score when using the original features. \n",
    "    fig_width = min(len(summary_df)/4, 20)\n",
    "    fig_width = max(fig_width, 5)\n",
    "    fig, ax = plt.subplots(nrows=1, ncols=1, figsize=(fig_width,5))\n",
    "    for row_idx in range(len(combinations_df)):\n",
    "        m = combinations_df.iloc[row_idx]['Model']\n",
    "        h = combinations_df.iloc[row_idx]['Feature Engineering Description']\n",
    "\n",
    "        # Get the subset of summary_df for the current feature engineering method. \n",
    "        if (row_idx==0):\n",
    "            subset_df_1 = summary_df[(summary_df['Model']==m) & (summary_df['Feature Engineering Description']==h)].sort_values(by=accuracy_metric).reset_index()\n",
    "            x_coords = subset_df_1.index        \n",
    "            y_coords = subset_df_1[accuracy_metric]\n",
    "        else:\n",
    "            subset_df_2 = summary_df[(summary_df['Model']==m) & (summary_df['Feature Engineering Description']==h)]\n",
    "            y_coords = []\n",
    "            for i in range(len(subset_df_1)):\n",
    "                ds = subset_df_1.iloc[i]['Dataset']\n",
    "                y_coords.append(subset_df_2[subset_df_2['Dataset']==ds][accuracy_metric])\n",
    "        ax.plot(x_coords, y_coords, label=m + \"(\" + h + \")\")\n",
    "    t = subset_df_1['Dataset']\n",
    "    plt.xticks(range(len(t)), t, size='small', rotation=55)            \n",
    "    plt.legend()\n",
    "    plt.title(accuracy_metric + \" by dataset\")\n",
    "    plt.show()"
   ]
  },
  {
   "cell_type": "code",
   "execution_count": 10,
   "id": "59c1124f",
   "metadata": {},
   "outputs": [],
   "source": [
    "plot_results(summary_df, 'Avg f1_macro')"
   ]
  },
  {
   "cell_type": "markdown",
   "id": "e1497b0d",
   "metadata": {},
   "source": [
    "## 2nd Classification Test -- Holding the tree depth to 5"
   ]
  },
  {
   "cell_type": "code",
   "execution_count": 11,
   "id": "8b77ede0",
   "metadata": {
    "scrolled": false
   },
   "outputs": [
    {
     "name": "stdout",
     "output_type": "stream",
     "text": [
      "\n",
      "Running test on 0 datastets\n"
     ]
    },
    {
     "data": {
      "text/html": [
       "<div>\n",
       "<style scoped>\n",
       "    .dataframe tbody tr th:only-of-type {\n",
       "        vertical-align: middle;\n",
       "    }\n",
       "\n",
       "    .dataframe tbody tr th {\n",
       "        vertical-align: top;\n",
       "    }\n",
       "\n",
       "    .dataframe thead th {\n",
       "        text-align: right;\n",
       "    }\n",
       "</style>\n",
       "<table border=\"1\" class=\"dataframe\">\n",
       "  <thead>\n",
       "    <tr style=\"text-align: right;\">\n",
       "      <th></th>\n",
       "      <th>Dataset Index</th>\n",
       "      <th>Dataset</th>\n",
       "      <th>Dataset Version</th>\n",
       "      <th>Model</th>\n",
       "      <th>Feature Engineering Description</th>\n",
       "      <th>Hyperparameter Description</th>\n",
       "      <th>Avg f1_macro</th>\n",
       "      <th>Std dev between folds</th>\n",
       "      <th>Train-Test Gap</th>\n",
       "      <th># Columns</th>\n",
       "      <th>Model Complexity</th>\n",
       "      <th>Fit Time</th>\n",
       "    </tr>\n",
       "  </thead>\n",
       "  <tbody>\n",
       "  </tbody>\n",
       "</table>\n",
       "</div>"
      ],
      "text/plain": [
       "Empty DataFrame\n",
       "Columns: [Dataset Index, Dataset, Dataset Version, Model, Feature Engineering Description, Hyperparameter Description, Avg f1_macro, Std dev between folds, Train-Test Gap, # Columns, Model Complexity, Fit Time]\n",
       "Index: []"
      ]
     },
     "metadata": {},
     "output_type": "display_data"
    }
   ],
   "source": [
    "pipe1 = Pipeline([('dt', tree.DecisionTreeClassifier(max_depth=5, random_state=0))])\n",
    "pipe2 = Pipeline([('rota', RotationFeatures()), ('dt', tree.DecisionTreeClassifier(max_depth=5, random_state=0))])\n",
    "\n",
    "# This provides an example using some non-default parameters. \n",
    "summary_df = datasets_tester.run_tests(estimators_arr = [\n",
    "                                        (\"DT\", \"Original Features\", \"Default\", pipe1),\n",
    "                                        (\"DT\", \"Rotation-based Features\", \"Default\", pipe2)],\n",
    "                                       num_cv_folds=3,\n",
    "                                       show_warnings=False,\n",
    "                                       partial_result_folder=partial_result_folder) \n",
    "\n",
    "display(summary_df)"
   ]
  },
  {
   "cell_type": "code",
   "execution_count": 12,
   "id": "84fe9002",
   "metadata": {},
   "outputs": [
    {
     "name": "stderr",
     "output_type": "stream",
     "text": [
      "c:\\users\\aymke\\appdata\\local\\programs\\python\\python39\\lib\\site-packages\\ipykernel\\ipkernel.py:283: DeprecationWarning: `should_run_async` will not call `transform_cell` automatically in the future. Please pass the result to `transformed_cell` argument and any exception that happen during thetransform in `preprocessing_exc_tuple` in IPython 7.17 and above.\n",
      "  and should_run_async(code)\n"
     ]
    }
   ],
   "source": [
    "summarize_results('Avg f1_macro')"
   ]
  },
  {
   "cell_type": "code",
   "execution_count": 13,
   "id": "b5c0dc3b",
   "metadata": {},
   "outputs": [],
   "source": [
    "plot_results(summary_df, 'Avg f1_macro')"
   ]
  },
  {
   "cell_type": "markdown",
   "id": "b1a8b0b3",
   "metadata": {},
   "source": [
    "# Regression Tests - With Default Parameters"
   ]
  },
  {
   "cell_type": "code",
   "execution_count": 14,
   "id": "9502a42c",
   "metadata": {},
   "outputs": [],
   "source": [
    "datasets_tester = de.DatasetsTester()\n",
    "\n",
    "matching_datasets = datasets_tester.find_datasets( \n",
    "    problem_type = \"regression\",\n",
    "    min_num_features = 0,\n",
    "    max_num_features = np.inf,\n",
    "    min_num_instances = 500,\n",
    "    max_num_instances = 5_000,\n",
    "    min_num_numeric_features = 2,\n",
    "    max_num_numeric_features = 50,\n",
    "    min_num_categorical_features=0,\n",
    "    max_num_categorical_features=50)"
   ]
  },
  {
   "cell_type": "code",
   "execution_count": 15,
   "id": "3732de74",
   "metadata": {
    "scrolled": false
   },
   "outputs": [
    {
     "name": "stdout",
     "output_type": "stream",
     "text": [
      "\n",
      "Running test on 0 datastets\n"
     ]
    },
    {
     "name": "stderr",
     "output_type": "stream",
     "text": [
      "c:\\users\\aymke\\appdata\\local\\programs\\python\\python39\\lib\\site-packages\\ipykernel\\ipkernel.py:283: DeprecationWarning: `should_run_async` will not call `transform_cell` automatically in the future. Please pass the result to `transformed_cell` argument and any exception that happen during thetransform in `preprocessing_exc_tuple` in IPython 7.17 and above.\n",
      "  and should_run_async(code)\n"
     ]
    },
    {
     "data": {
      "text/html": [
       "<div>\n",
       "<style scoped>\n",
       "    .dataframe tbody tr th:only-of-type {\n",
       "        vertical-align: middle;\n",
       "    }\n",
       "\n",
       "    .dataframe tbody tr th {\n",
       "        vertical-align: top;\n",
       "    }\n",
       "\n",
       "    .dataframe thead th {\n",
       "        text-align: right;\n",
       "    }\n",
       "</style>\n",
       "<table border=\"1\" class=\"dataframe\">\n",
       "  <thead>\n",
       "    <tr style=\"text-align: right;\">\n",
       "      <th></th>\n",
       "      <th>Dataset Index</th>\n",
       "      <th>Dataset</th>\n",
       "      <th>Dataset Version</th>\n",
       "      <th>Model</th>\n",
       "      <th>Feature Engineering Description</th>\n",
       "      <th>Hyperparameter Description</th>\n",
       "      <th>Avg NRMSE</th>\n",
       "      <th>Std dev between folds</th>\n",
       "      <th>Train-Test Gap</th>\n",
       "      <th># Columns</th>\n",
       "      <th>Model Complexity</th>\n",
       "      <th>Fit Time</th>\n",
       "    </tr>\n",
       "  </thead>\n",
       "  <tbody>\n",
       "  </tbody>\n",
       "</table>\n",
       "</div>"
      ],
      "text/plain": [
       "Empty DataFrame\n",
       "Columns: [Dataset Index, Dataset, Dataset Version, Model, Feature Engineering Description, Hyperparameter Description, Avg NRMSE, Std dev between folds, Train-Test Gap, # Columns, Model Complexity, Fit Time]\n",
       "Index: []"
      ]
     },
     "metadata": {},
     "output_type": "display_data"
    }
   ],
   "source": [
    "datasets_tester.collect_data(max_num_datasets_used=NUM_DATASETS_REGRESSION_DEFAULT, \n",
    "                             preview_data=False, \n",
    "                             save_local_cache=True,\n",
    "                             check_local_cache=True,\n",
    "                             path_local_cache=cache_folder)\n",
    " \n",
    "\n",
    "pipe1 = Pipeline([('dt', tree.DecisionTreeRegressor(random_state=0))])\n",
    "pipe2 = Pipeline([('rota', RotationFeatures()), ('dt', tree.DecisionTreeRegressor(random_state=0))])\n",
    "\n",
    "summary_df = datasets_tester.run_tests(estimators_arr = [\n",
    "                                        (\"DT\", \"Original Features\", \"Default\", pipe1),\n",
    "                                        (\"DT\", \"Rotation-based Features\", \"Default\", pipe2)],\n",
    "                                       num_cv_folds=3,\n",
    "                                       show_warnings=True,\n",
    "                                       partial_result_folder=partial_result_folder) \n",
    "\n",
    "display(summary_df)"
   ]
  },
  {
   "cell_type": "code",
   "execution_count": 16,
   "id": "01c76607",
   "metadata": {},
   "outputs": [
    {
     "name": "stderr",
     "output_type": "stream",
     "text": [
      "c:\\users\\aymke\\appdata\\local\\programs\\python\\python39\\lib\\site-packages\\ipykernel\\ipkernel.py:283: DeprecationWarning: `should_run_async` will not call `transform_cell` automatically in the future. Please pass the result to `transformed_cell` argument and any exception that happen during thetransform in `preprocessing_exc_tuple` in IPython 7.17 and above.\n",
      "  and should_run_async(code)\n"
     ]
    }
   ],
   "source": [
    "summarize_results('Avg NRMSE')"
   ]
  },
  {
   "cell_type": "code",
   "execution_count": 17,
   "id": "3ab5ebb6",
   "metadata": {},
   "outputs": [],
   "source": [
    "plot_results(summary_df, 'Avg NRMSE')"
   ]
  },
  {
   "cell_type": "markdown",
   "id": "959c29c5",
   "metadata": {},
   "source": [
    "## 2nd Regression Test -- Holding the tree depth to 5"
   ]
  },
  {
   "cell_type": "code",
   "execution_count": 18,
   "id": "25efb3e2",
   "metadata": {
    "scrolled": false
   },
   "outputs": [
    {
     "name": "stdout",
     "output_type": "stream",
     "text": [
      "\n",
      "Running test on 0 datastets\n"
     ]
    },
    {
     "data": {
      "text/html": [
       "<div>\n",
       "<style scoped>\n",
       "    .dataframe tbody tr th:only-of-type {\n",
       "        vertical-align: middle;\n",
       "    }\n",
       "\n",
       "    .dataframe tbody tr th {\n",
       "        vertical-align: top;\n",
       "    }\n",
       "\n",
       "    .dataframe thead th {\n",
       "        text-align: right;\n",
       "    }\n",
       "</style>\n",
       "<table border=\"1\" class=\"dataframe\">\n",
       "  <thead>\n",
       "    <tr style=\"text-align: right;\">\n",
       "      <th></th>\n",
       "      <th>Dataset Index</th>\n",
       "      <th>Dataset</th>\n",
       "      <th>Dataset Version</th>\n",
       "      <th>Model</th>\n",
       "      <th>Feature Engineering Description</th>\n",
       "      <th>Hyperparameter Description</th>\n",
       "      <th>Avg NRMSE</th>\n",
       "      <th>Std dev between folds</th>\n",
       "      <th>Train-Test Gap</th>\n",
       "      <th># Columns</th>\n",
       "      <th>Model Complexity</th>\n",
       "      <th>Fit Time</th>\n",
       "    </tr>\n",
       "  </thead>\n",
       "  <tbody>\n",
       "  </tbody>\n",
       "</table>\n",
       "</div>"
      ],
      "text/plain": [
       "Empty DataFrame\n",
       "Columns: [Dataset Index, Dataset, Dataset Version, Model, Feature Engineering Description, Hyperparameter Description, Avg NRMSE, Std dev between folds, Train-Test Gap, # Columns, Model Complexity, Fit Time]\n",
       "Index: []"
      ]
     },
     "metadata": {},
     "output_type": "display_data"
    }
   ],
   "source": [
    "pipe1 = Pipeline([('dt', tree.DecisionTreeRegressor(max_depth=5, random_state=0))])\n",
    "pipe2 = Pipeline([('rota', RotationFeatures()), ('dt', tree.DecisionTreeRegressor(max_depth=5, random_state=0))])\n",
    "\n",
    "summary_df = datasets_tester.run_tests(estimators_arr = [\n",
    "                                        (\"DT\", \"Original Features\", \"Default\", pipe1),\n",
    "                                        (\"DT\", \"Rotation-based Features\", \"Default\", pipe2)],\n",
    "                                       num_cv_folds=3,\n",
    "                                       show_warnings=True,\n",
    "                                       partial_result_folder=partial_result_folder) \n",
    "\n",
    "display(summary_df)"
   ]
  },
  {
   "cell_type": "code",
   "execution_count": 19,
   "id": "456178bf",
   "metadata": {},
   "outputs": [
    {
     "name": "stderr",
     "output_type": "stream",
     "text": [
      "c:\\users\\aymke\\appdata\\local\\programs\\python\\python39\\lib\\site-packages\\ipykernel\\ipkernel.py:283: DeprecationWarning: `should_run_async` will not call `transform_cell` automatically in the future. Please pass the result to `transformed_cell` argument and any exception that happen during thetransform in `preprocessing_exc_tuple` in IPython 7.17 and above.\n",
      "  and should_run_async(code)\n"
     ]
    }
   ],
   "source": [
    "summarize_results('Avg NRMSE')"
   ]
  },
  {
   "cell_type": "code",
   "execution_count": 20,
   "id": "5adfe906",
   "metadata": {},
   "outputs": [],
   "source": [
    "plot_results(summary_df, 'Avg NRMSE')"
   ]
  },
  {
   "cell_type": "markdown",
   "id": "28b88d31",
   "metadata": {},
   "source": [
    "# Classification Tests -- Using CVGridSearch to determine the hyperparameters"
   ]
  },
  {
   "cell_type": "code",
   "execution_count": 21,
   "id": "9e6bce94",
   "metadata": {
    "scrolled": false
   },
   "outputs": [
    {
     "data": {
      "text/html": [
       "<div>\n",
       "<style scoped>\n",
       "    .dataframe tbody tr th:only-of-type {\n",
       "        vertical-align: middle;\n",
       "    }\n",
       "\n",
       "    .dataframe tbody tr th {\n",
       "        vertical-align: top;\n",
       "    }\n",
       "\n",
       "    .dataframe thead th {\n",
       "        text-align: right;\n",
       "    }\n",
       "</style>\n",
       "<table border=\"1\" class=\"dataframe\">\n",
       "  <thead>\n",
       "    <tr style=\"text-align: right;\">\n",
       "      <th></th>\n",
       "      <th>did</th>\n",
       "      <th>name</th>\n",
       "      <th>version</th>\n",
       "      <th>uploader</th>\n",
       "      <th>status</th>\n",
       "      <th>format</th>\n",
       "      <th>MajorityClassSize</th>\n",
       "      <th>MaxNominalAttDistinctValues</th>\n",
       "      <th>MinorityClassSize</th>\n",
       "      <th>NumberOfClasses</th>\n",
       "      <th>NumberOfFeatures</th>\n",
       "      <th>NumberOfInstances</th>\n",
       "      <th>NumberOfInstancesWithMissingValues</th>\n",
       "      <th>NumberOfMissingValues</th>\n",
       "      <th>NumberOfNumericFeatures</th>\n",
       "      <th>NumberOfSymbolicFeatures</th>\n",
       "    </tr>\n",
       "  </thead>\n",
       "  <tbody>\n",
       "    <tr>\n",
       "      <th>2</th>\n",
       "      <td>2</td>\n",
       "      <td>anneal</td>\n",
       "      <td>1</td>\n",
       "      <td>1</td>\n",
       "      <td>active</td>\n",
       "      <td>ARFF</td>\n",
       "      <td>684.0</td>\n",
       "      <td>7.0</td>\n",
       "      <td>8.0</td>\n",
       "      <td>5.0</td>\n",
       "      <td>39.0</td>\n",
       "      <td>898.0</td>\n",
       "      <td>898.0</td>\n",
       "      <td>22175.0</td>\n",
       "      <td>6.0</td>\n",
       "      <td>33.0</td>\n",
       "    </tr>\n",
       "    <tr>\n",
       "      <th>11</th>\n",
       "      <td>11</td>\n",
       "      <td>balance-scale</td>\n",
       "      <td>1</td>\n",
       "      <td>1</td>\n",
       "      <td>active</td>\n",
       "      <td>ARFF</td>\n",
       "      <td>288.0</td>\n",
       "      <td>3.0</td>\n",
       "      <td>49.0</td>\n",
       "      <td>3.0</td>\n",
       "      <td>5.0</td>\n",
       "      <td>625.0</td>\n",
       "      <td>0.0</td>\n",
       "      <td>0.0</td>\n",
       "      <td>4.0</td>\n",
       "      <td>1.0</td>\n",
       "    </tr>\n",
       "    <tr>\n",
       "      <th>15</th>\n",
       "      <td>15</td>\n",
       "      <td>breast-w</td>\n",
       "      <td>1</td>\n",
       "      <td>1</td>\n",
       "      <td>active</td>\n",
       "      <td>ARFF</td>\n",
       "      <td>458.0</td>\n",
       "      <td>2.0</td>\n",
       "      <td>241.0</td>\n",
       "      <td>2.0</td>\n",
       "      <td>10.0</td>\n",
       "      <td>699.0</td>\n",
       "      <td>16.0</td>\n",
       "      <td>16.0</td>\n",
       "      <td>9.0</td>\n",
       "      <td>1.0</td>\n",
       "    </tr>\n",
       "    <tr>\n",
       "      <th>18</th>\n",
       "      <td>18</td>\n",
       "      <td>mfeat-morphological</td>\n",
       "      <td>1</td>\n",
       "      <td>1</td>\n",
       "      <td>active</td>\n",
       "      <td>ARFF</td>\n",
       "      <td>200.0</td>\n",
       "      <td>10.0</td>\n",
       "      <td>200.0</td>\n",
       "      <td>10.0</td>\n",
       "      <td>7.0</td>\n",
       "      <td>2000.0</td>\n",
       "      <td>0.0</td>\n",
       "      <td>0.0</td>\n",
       "      <td>6.0</td>\n",
       "      <td>1.0</td>\n",
       "    </tr>\n",
       "    <tr>\n",
       "      <th>23</th>\n",
       "      <td>23</td>\n",
       "      <td>cmc</td>\n",
       "      <td>1</td>\n",
       "      <td>1</td>\n",
       "      <td>active</td>\n",
       "      <td>ARFF</td>\n",
       "      <td>629.0</td>\n",
       "      <td>4.0</td>\n",
       "      <td>333.0</td>\n",
       "      <td>3.0</td>\n",
       "      <td>10.0</td>\n",
       "      <td>1473.0</td>\n",
       "      <td>0.0</td>\n",
       "      <td>0.0</td>\n",
       "      <td>2.0</td>\n",
       "      <td>8.0</td>\n",
       "    </tr>\n",
       "    <tr>\n",
       "      <th>...</th>\n",
       "      <td>...</td>\n",
       "      <td>...</td>\n",
       "      <td>...</td>\n",
       "      <td>...</td>\n",
       "      <td>...</td>\n",
       "      <td>...</td>\n",
       "      <td>...</td>\n",
       "      <td>...</td>\n",
       "      <td>...</td>\n",
       "      <td>...</td>\n",
       "      <td>...</td>\n",
       "      <td>...</td>\n",
       "      <td>...</td>\n",
       "      <td>...</td>\n",
       "      <td>...</td>\n",
       "      <td>...</td>\n",
       "    </tr>\n",
       "    <tr>\n",
       "      <th>40713</th>\n",
       "      <td>40713</td>\n",
       "      <td>dis</td>\n",
       "      <td>1</td>\n",
       "      <td>869</td>\n",
       "      <td>active</td>\n",
       "      <td>ARFF</td>\n",
       "      <td>3714.0</td>\n",
       "      <td>5.0</td>\n",
       "      <td>58.0</td>\n",
       "      <td>2.0</td>\n",
       "      <td>30.0</td>\n",
       "      <td>3772.0</td>\n",
       "      <td>0.0</td>\n",
       "      <td>0.0</td>\n",
       "      <td>6.0</td>\n",
       "      <td>24.0</td>\n",
       "    </tr>\n",
       "    <tr>\n",
       "      <th>40945</th>\n",
       "      <td>40945</td>\n",
       "      <td>Titanic</td>\n",
       "      <td>1</td>\n",
       "      <td>2</td>\n",
       "      <td>active</td>\n",
       "      <td>ARFF</td>\n",
       "      <td>809.0</td>\n",
       "      <td>3.0</td>\n",
       "      <td>500.0</td>\n",
       "      <td>2.0</td>\n",
       "      <td>14.0</td>\n",
       "      <td>1309.0</td>\n",
       "      <td>1309.0</td>\n",
       "      <td>3855.0</td>\n",
       "      <td>6.0</td>\n",
       "      <td>3.0</td>\n",
       "    </tr>\n",
       "    <tr>\n",
       "      <th>40981</th>\n",
       "      <td>40981</td>\n",
       "      <td>Australian</td>\n",
       "      <td>4</td>\n",
       "      <td>4265</td>\n",
       "      <td>active</td>\n",
       "      <td>ARFF</td>\n",
       "      <td>383.0</td>\n",
       "      <td>14.0</td>\n",
       "      <td>307.0</td>\n",
       "      <td>2.0</td>\n",
       "      <td>15.0</td>\n",
       "      <td>690.0</td>\n",
       "      <td>0.0</td>\n",
       "      <td>0.0</td>\n",
       "      <td>6.0</td>\n",
       "      <td>9.0</td>\n",
       "    </tr>\n",
       "    <tr>\n",
       "      <th>40983</th>\n",
       "      <td>40983</td>\n",
       "      <td>wilt</td>\n",
       "      <td>2</td>\n",
       "      <td>4265</td>\n",
       "      <td>active</td>\n",
       "      <td>ARFF</td>\n",
       "      <td>4578.0</td>\n",
       "      <td>2.0</td>\n",
       "      <td>261.0</td>\n",
       "      <td>2.0</td>\n",
       "      <td>6.0</td>\n",
       "      <td>4839.0</td>\n",
       "      <td>0.0</td>\n",
       "      <td>0.0</td>\n",
       "      <td>5.0</td>\n",
       "      <td>1.0</td>\n",
       "    </tr>\n",
       "    <tr>\n",
       "      <th>41945</th>\n",
       "      <td>41945</td>\n",
       "      <td>ilpd-numeric</td>\n",
       "      <td>2</td>\n",
       "      <td>8684</td>\n",
       "      <td>active</td>\n",
       "      <td>ARFF</td>\n",
       "      <td>416.0</td>\n",
       "      <td>2.0</td>\n",
       "      <td>167.0</td>\n",
       "      <td>2.0</td>\n",
       "      <td>11.0</td>\n",
       "      <td>583.0</td>\n",
       "      <td>0.0</td>\n",
       "      <td>0.0</td>\n",
       "      <td>10.0</td>\n",
       "      <td>1.0</td>\n",
       "    </tr>\n",
       "  </tbody>\n",
       "</table>\n",
       "<p>88 rows × 16 columns</p>\n",
       "</div>"
      ],
      "text/plain": [
       "         did                 name  version uploader  status format  \\\n",
       "2          2               anneal        1        1  active   ARFF   \n",
       "11        11        balance-scale        1        1  active   ARFF   \n",
       "15        15             breast-w        1        1  active   ARFF   \n",
       "18        18  mfeat-morphological        1        1  active   ARFF   \n",
       "23        23                  cmc        1        1  active   ARFF   \n",
       "...      ...                  ...      ...      ...     ...    ...   \n",
       "40713  40713                  dis        1      869  active   ARFF   \n",
       "40945  40945              Titanic        1        2  active   ARFF   \n",
       "40981  40981           Australian        4     4265  active   ARFF   \n",
       "40983  40983                 wilt        2     4265  active   ARFF   \n",
       "41945  41945         ilpd-numeric        2     8684  active   ARFF   \n",
       "\n",
       "       MajorityClassSize  MaxNominalAttDistinctValues  MinorityClassSize  \\\n",
       "2                  684.0                          7.0                8.0   \n",
       "11                 288.0                          3.0               49.0   \n",
       "15                 458.0                          2.0              241.0   \n",
       "18                 200.0                         10.0              200.0   \n",
       "23                 629.0                          4.0              333.0   \n",
       "...                  ...                          ...                ...   \n",
       "40713             3714.0                          5.0               58.0   \n",
       "40945              809.0                          3.0              500.0   \n",
       "40981              383.0                         14.0              307.0   \n",
       "40983             4578.0                          2.0              261.0   \n",
       "41945              416.0                          2.0              167.0   \n",
       "\n",
       "       NumberOfClasses  NumberOfFeatures  NumberOfInstances  \\\n",
       "2                  5.0              39.0              898.0   \n",
       "11                 3.0               5.0              625.0   \n",
       "15                 2.0              10.0              699.0   \n",
       "18                10.0               7.0             2000.0   \n",
       "23                 3.0              10.0             1473.0   \n",
       "...                ...               ...                ...   \n",
       "40713              2.0              30.0             3772.0   \n",
       "40945              2.0              14.0             1309.0   \n",
       "40981              2.0              15.0              690.0   \n",
       "40983              2.0               6.0             4839.0   \n",
       "41945              2.0              11.0              583.0   \n",
       "\n",
       "       NumberOfInstancesWithMissingValues  NumberOfMissingValues  \\\n",
       "2                                   898.0                22175.0   \n",
       "11                                    0.0                    0.0   \n",
       "15                                   16.0                   16.0   \n",
       "18                                    0.0                    0.0   \n",
       "23                                    0.0                    0.0   \n",
       "...                                   ...                    ...   \n",
       "40713                                 0.0                    0.0   \n",
       "40945                              1309.0                 3855.0   \n",
       "40981                                 0.0                    0.0   \n",
       "40983                                 0.0                    0.0   \n",
       "41945                                 0.0                    0.0   \n",
       "\n",
       "       NumberOfNumericFeatures  NumberOfSymbolicFeatures  \n",
       "2                          6.0                      33.0  \n",
       "11                         4.0                       1.0  \n",
       "15                         9.0                       1.0  \n",
       "18                         6.0                       1.0  \n",
       "23                         2.0                       8.0  \n",
       "...                        ...                       ...  \n",
       "40713                      6.0                      24.0  \n",
       "40945                      6.0                       3.0  \n",
       "40981                      6.0                       9.0  \n",
       "40983                      5.0                       1.0  \n",
       "41945                     10.0                       1.0  \n",
       "\n",
       "[88 rows x 16 columns]"
      ]
     },
     "metadata": {},
     "output_type": "display_data"
    },
    {
     "name": "stdout",
     "output_type": "stream",
     "text": [
      "Reading from local cache: 1, id: 29, name: credit-approval\n",
      "Reading from local cache: 2, id: 31, name: credit-g\n",
      "\n",
      "Running test on 2 datastets\n",
      "Running tests on dataset: 0: credit-approval\n",
      "\tRunning tests with model: DT (Original Features)\n",
      "\ttest_score:  0.8381016042780749\n",
      "\tRunning tests with model: DT (Rotation-based Features)\n",
      "\ttest_score:  0.7293197278911565\n",
      "Running tests on dataset: 1: credit-g\n",
      "\tRunning tests with model: DT (Original Features)\n",
      "\ttest_score:  0.6381578947368421\n",
      "\tRunning tests with model: DT (Rotation-based Features)\n",
      "\ttest_score:  0.5965017641318219\n"
     ]
    },
    {
     "data": {
      "text/html": [
       "<div>\n",
       "<style scoped>\n",
       "    .dataframe tbody tr th:only-of-type {\n",
       "        vertical-align: middle;\n",
       "    }\n",
       "\n",
       "    .dataframe tbody tr th {\n",
       "        vertical-align: top;\n",
       "    }\n",
       "\n",
       "    .dataframe thead th {\n",
       "        text-align: right;\n",
       "    }\n",
       "</style>\n",
       "<table border=\"1\" class=\"dataframe\">\n",
       "  <thead>\n",
       "    <tr style=\"text-align: right;\">\n",
       "      <th></th>\n",
       "      <th>Dataset Index</th>\n",
       "      <th>Dataset</th>\n",
       "      <th>Dataset Version</th>\n",
       "      <th>Model</th>\n",
       "      <th>Feature Engineering Description</th>\n",
       "      <th>Hyperparameter Description</th>\n",
       "      <th>f1_macro</th>\n",
       "      <th>Train-Test Gap</th>\n",
       "      <th># Columns</th>\n",
       "      <th>Model Complexity</th>\n",
       "      <th>Fit Time</th>\n",
       "    </tr>\n",
       "  </thead>\n",
       "  <tbody>\n",
       "    <tr>\n",
       "      <th>0</th>\n",
       "      <td>0</td>\n",
       "      <td>credit-approval</td>\n",
       "      <td>1</td>\n",
       "      <td>DT</td>\n",
       "      <td>Original Features</td>\n",
       "      <td></td>\n",
       "      <td>0.838102</td>\n",
       "      <td>0.026355</td>\n",
       "      <td>55</td>\n",
       "      <td>15.0</td>\n",
       "      <td>0.23</td>\n",
       "    </tr>\n",
       "    <tr>\n",
       "      <th>1</th>\n",
       "      <td>0</td>\n",
       "      <td>credit-approval</td>\n",
       "      <td>1</td>\n",
       "      <td>DT</td>\n",
       "      <td>Rotation-based Features</td>\n",
       "      <td></td>\n",
       "      <td>0.729320</td>\n",
       "      <td>0.270680</td>\n",
       "      <td>55</td>\n",
       "      <td>107.0</td>\n",
       "      <td>212.86</td>\n",
       "    </tr>\n",
       "    <tr>\n",
       "      <th>2</th>\n",
       "      <td>1</td>\n",
       "      <td>credit-g</td>\n",
       "      <td>1</td>\n",
       "      <td>DT</td>\n",
       "      <td>Original Features</td>\n",
       "      <td></td>\n",
       "      <td>0.638158</td>\n",
       "      <td>0.137828</td>\n",
       "      <td>74</td>\n",
       "      <td>91.0</td>\n",
       "      <td>0.23</td>\n",
       "    </tr>\n",
       "    <tr>\n",
       "      <th>3</th>\n",
       "      <td>1</td>\n",
       "      <td>credit-g</td>\n",
       "      <td>1</td>\n",
       "      <td>DT</td>\n",
       "      <td>Rotation-based Features</td>\n",
       "      <td></td>\n",
       "      <td>0.596502</td>\n",
       "      <td>0.403498</td>\n",
       "      <td>74</td>\n",
       "      <td>223.0</td>\n",
       "      <td>307.92</td>\n",
       "    </tr>\n",
       "  </tbody>\n",
       "</table>\n",
       "</div>"
      ],
      "text/plain": [
       "  Dataset Index          Dataset Dataset Version Model  \\\n",
       "0             0  credit-approval               1    DT   \n",
       "1             0  credit-approval               1    DT   \n",
       "2             1         credit-g               1    DT   \n",
       "3             1         credit-g               1    DT   \n",
       "\n",
       "  Feature Engineering Description Hyperparameter Description  f1_macro  \\\n",
       "0               Original Features                             0.838102   \n",
       "1         Rotation-based Features                             0.729320   \n",
       "2               Original Features                             0.638158   \n",
       "3         Rotation-based Features                             0.596502   \n",
       "\n",
       "   Train-Test Gap # Columns  Model Complexity  Fit Time  \n",
       "0        0.026355        55              15.0      0.23  \n",
       "1        0.270680        55             107.0    212.86  \n",
       "2        0.137828        74              91.0      0.23  \n",
       "3        0.403498        74             223.0    307.92  "
      ]
     },
     "metadata": {},
     "output_type": "display_data"
    }
   ],
   "source": [
    "# As this takes much longer than testing with the default parameters, we test with fewer datasets. Note though,\n",
    "# run_tests_grid_search() uses CV to evaluate the grid search for the best hyperparameters, it does a train-test \n",
    "# split on the data for evaluation, so evaluates the predictions quickly, though with more variability than if\n",
    "# using CV to evaluate as well. \n",
    "\n",
    "# todo: display the best hyperparameters too\n",
    "\n",
    "datasets_tester = de.DatasetsTester()\n",
    "\n",
    "matching_datasets = datasets_tester.find_datasets(problem_type = \"classification\", \n",
    "                                                  min_num_numeric_features=2,\n",
    "                                                  max_num_numeric_features=10) # Set lower to be faster\n",
    "display(matching_datasets)\n",
    "\n",
    "datasets_tester.collect_data(max_num_datasets_used=NUM_DATASETS_CLASSIFICATION_GRID_SEARCH, \n",
    "                             exclude_list=['breast-w'],\n",
    "                             preview_data=False, \n",
    "                             save_local_cache=True,\n",
    "                             check_local_cache=True,\n",
    "                             path_local_cache=cache_folder)\n",
    "\n",
    "orig_parameters = {\n",
    "     'dt__max_depth': (3,4,5,6,100)\n",
    "}\n",
    "\n",
    "rota_parameters = {\n",
    "    'rota__degree_increment': (3,4,10,15,30), \n",
    "#     'dt__max_depth': (3,4,5,6)\n",
    "}\n",
    "\n",
    "orig_pipe = Pipeline([('dt', tree.DecisionTreeClassifier())])\n",
    "rota_pipe = Pipeline([('rota', RotationFeatures()), ('dt', tree.DecisionTreeClassifier())])\n",
    "\n",
    "# This provides an example using some non-default parameters. \n",
    "summary_df = datasets_tester.run_tests_grid_search(\n",
    "        estimators_arr = [\n",
    "            (\"DT\", \"Original Features\", \"\", orig_pipe),\n",
    "            (\"DT\", \"Rotation-based Features\", \"\", rota_pipe)],\n",
    "        parameters_arr=[orig_parameters, rota_parameters],\n",
    "        num_cv_folds=3,\n",
    "        show_warnings=False,\n",
    "        partial_result_folder=partial_result_folder) \n",
    "\n",
    "display(summary_df)\n"
   ]
  },
  {
   "cell_type": "code",
   "execution_count": 22,
   "id": "089aadab",
   "metadata": {},
   "outputs": [
    {
     "name": "stderr",
     "output_type": "stream",
     "text": [
      "c:\\users\\aymke\\appdata\\local\\programs\\python\\python39\\lib\\site-packages\\ipykernel\\ipkernel.py:283: DeprecationWarning: `should_run_async` will not call `transform_cell` automatically in the future. Please pass the result to `transformed_cell` argument and any exception that happen during thetransform in `preprocessing_exc_tuple` in IPython 7.17 and above.\n",
      "  and should_run_async(code)\n"
     ]
    },
    {
     "data": {
      "text/html": [
       "<div>\n",
       "<style scoped>\n",
       "    .dataframe tbody tr th:only-of-type {\n",
       "        vertical-align: middle;\n",
       "    }\n",
       "\n",
       "    .dataframe tbody tr th {\n",
       "        vertical-align: top;\n",
       "    }\n",
       "\n",
       "    .dataframe thead th {\n",
       "        text-align: right;\n",
       "    }\n",
       "</style>\n",
       "<table border=\"1\" class=\"dataframe\">\n",
       "  <thead>\n",
       "    <tr style=\"text-align: right;\">\n",
       "      <th></th>\n",
       "      <th></th>\n",
       "      <th>f1_macro</th>\n",
       "      <th>Avg. Train-Test Gap</th>\n",
       "      <th>Avg. Fit Time</th>\n",
       "      <th>Avg. Complexity</th>\n",
       "    </tr>\n",
       "    <tr>\n",
       "      <th>Model</th>\n",
       "      <th>Feature Engineering Description</th>\n",
       "      <th></th>\n",
       "      <th></th>\n",
       "      <th></th>\n",
       "      <th></th>\n",
       "    </tr>\n",
       "  </thead>\n",
       "  <tbody>\n",
       "    <tr>\n",
       "      <th rowspan=\"2\" valign=\"top\">DT</th>\n",
       "      <th>Original Features</th>\n",
       "      <td>0.738130</td>\n",
       "      <td>0.082092</td>\n",
       "      <td>0.23</td>\n",
       "      <td>53.0</td>\n",
       "    </tr>\n",
       "    <tr>\n",
       "      <th>Rotation-based Features</th>\n",
       "      <td>0.662911</td>\n",
       "      <td>0.337089</td>\n",
       "      <td>260.39</td>\n",
       "      <td>165.0</td>\n",
       "    </tr>\n",
       "  </tbody>\n",
       "</table>\n",
       "</div>"
      ],
      "text/plain": [
       "                                       f1_macro  Avg. Train-Test Gap  \\\n",
       "Model Feature Engineering Description                                  \n",
       "DT    Original Features                0.738130             0.082092   \n",
       "      Rotation-based Features          0.662911             0.337089   \n",
       "\n",
       "                                       Avg. Fit Time  Avg. Complexity  \n",
       "Model Feature Engineering Description                                  \n",
       "DT    Original Features                         0.23             53.0  \n",
       "      Rotation-based Features                 260.39            165.0  "
      ]
     },
     "metadata": {},
     "output_type": "display_data"
    }
   ],
   "source": [
    "summarize_results('f1_macro', show_std_dev=False)"
   ]
  },
  {
   "cell_type": "code",
   "execution_count": 23,
   "id": "7db9cbc6",
   "metadata": {},
   "outputs": [
    {
     "name": "stderr",
     "output_type": "stream",
     "text": [
      "c:\\users\\aymke\\appdata\\local\\programs\\python\\python39\\lib\\site-packages\\ipykernel\\ipkernel.py:283: DeprecationWarning: `should_run_async` will not call `transform_cell` automatically in the future. Please pass the result to `transformed_cell` argument and any exception that happen during thetransform in `preprocessing_exc_tuple` in IPython 7.17 and above.\n",
      "  and should_run_async(code)\n"
     ]
    },
    {
     "data": {
      "image/png": "[encoded data removed]",
      "text/plain": [
       "<Figure size 360x360 with 1 Axes>"
      ]
     },
     "metadata": {
      "needs_background": "light"
     },
     "output_type": "display_data"
    }
   ],
   "source": [
    "plot_results(summary_df, 'f1_macro')"
   ]
  },
  {
   "cell_type": "markdown",
   "id": "5dfb4050",
   "metadata": {},
   "source": [
    "## Regression Tests -- Using CVGridSearch to determine the hyperparameters"
   ]
  },
  {
   "cell_type": "code",
   "execution_count": 24,
   "id": "052888ae",
   "metadata": {},
   "outputs": [
    {
     "name": "stderr",
     "output_type": "stream",
     "text": [
      "c:\\users\\aymke\\appdata\\local\\programs\\python\\python39\\lib\\site-packages\\ipykernel\\ipkernel.py:283: DeprecationWarning: `should_run_async` will not call `transform_cell` automatically in the future. Please pass the result to `transformed_cell` argument and any exception that happen during thetransform in `preprocessing_exc_tuple` in IPython 7.17 and above.\n",
      "  and should_run_async(code)\n"
     ]
    },
    {
     "name": "stdout",
     "output_type": "stream",
     "text": [
      "\n",
      "Running test on 0 datastets\n"
     ]
    },
    {
     "data": {
      "text/html": [
       "<div>\n",
       "<style scoped>\n",
       "    .dataframe tbody tr th:only-of-type {\n",
       "        vertical-align: middle;\n",
       "    }\n",
       "\n",
       "    .dataframe tbody tr th {\n",
       "        vertical-align: top;\n",
       "    }\n",
       "\n",
       "    .dataframe thead th {\n",
       "        text-align: right;\n",
       "    }\n",
       "</style>\n",
       "<table border=\"1\" class=\"dataframe\">\n",
       "  <thead>\n",
       "    <tr style=\"text-align: right;\">\n",
       "      <th></th>\n",
       "      <th>Dataset Index</th>\n",
       "      <th>Dataset</th>\n",
       "      <th>Dataset Version</th>\n",
       "      <th>Model</th>\n",
       "      <th>Feature Engineering Description</th>\n",
       "      <th>Hyperparameter Description</th>\n",
       "      <th>NRMSE</th>\n",
       "      <th>Train-Test Gap</th>\n",
       "      <th># Columns</th>\n",
       "      <th>Model Complexity</th>\n",
       "      <th>Fit Time</th>\n",
       "    </tr>\n",
       "  </thead>\n",
       "  <tbody>\n",
       "  </tbody>\n",
       "</table>\n",
       "</div>"
      ],
      "text/plain": [
       "Empty DataFrame\n",
       "Columns: [Dataset Index, Dataset, Dataset Version, Model, Feature Engineering Description, Hyperparameter Description, NRMSE, Train-Test Gap, # Columns, Model Complexity, Fit Time]\n",
       "Index: []"
      ]
     },
     "metadata": {},
     "output_type": "display_data"
    }
   ],
   "source": [
    "# As this takes much longer than testing with the default parameters, we test with fewer datasets. Note though,\n",
    "# run_tests_grid_search() uses CV to evaluate the grid search for the best hyperparameters, it does a train-test \n",
    "# split on the data for evaluation, so evaluates the predictions quickly, though with more variability than if\n",
    "# using CV to evaluate as well. \n",
    "\n",
    "\n",
    "# todo: display the best hyperparameters too\n",
    "\n",
    "datasets_tester = de.DatasetsTester()\n",
    "\n",
    "matching_datasets = datasets_tester.find_datasets(problem_type = \"regression\",\n",
    "                                                  min_num_numeric_features=2,\n",
    "                                                  max_num_numeric_features=10)\n",
    "\n",
    "datasets_tester.collect_data(max_num_datasets_used=NUM_DATASETS_REGRESSION_GRID_SEARCH, \n",
    "                             preview_data=False, \n",
    "                             save_local_cache=True,\n",
    "                             check_local_cache=True,\n",
    "                             path_local_cache=cache_folder)\n",
    "\n",
    "orig_parameters = {\n",
    "     'dt__max_depth': (3,4,5,6)\n",
    "}\n",
    "\n",
    "rota_parameters = {\n",
    "     'rota__degree_increment': (3,4,10,15,30),\n",
    "     'dt__max_depth': (3,4,5,6)\n",
    "}\n",
    "\n",
    "orig_pipe = Pipeline([('dt', tree.DecisionTreeClassifier())])\n",
    "rota_pipe = Pipeline([('rota', RotationFeatures()), ('dt', tree.DecisionTreeClassifier())])\n",
    "\n",
    "# This provides an example using some non-default parameters. \n",
    "summary_df = datasets_tester.run_tests_grid_search(\n",
    "        estimators_arr = [\n",
    "            (\"DT\", \"Original Features\", \"\", orig_pipe),\n",
    "            (\"DT\", \"Rotation-based Features\", \"\", rota_pipe)],\n",
    "        parameters_arr=[orig_parameters, rota_parameters],\n",
    "        num_cv_folds=3,\n",
    "        show_warnings=False,\n",
    "        partial_result_folder=partial_result_folder) \n",
    "\n",
    "display(summary_df)"
   ]
  },
  {
   "cell_type": "code",
   "execution_count": 25,
   "id": "bf4c11ae",
   "metadata": {},
   "outputs": [
    {
     "name": "stderr",
     "output_type": "stream",
     "text": [
      "c:\\users\\aymke\\appdata\\local\\programs\\python\\python39\\lib\\site-packages\\ipykernel\\ipkernel.py:283: DeprecationWarning: `should_run_async` will not call `transform_cell` automatically in the future. Please pass the result to `transformed_cell` argument and any exception that happen during thetransform in `preprocessing_exc_tuple` in IPython 7.17 and above.\n",
      "  and should_run_async(code)\n"
     ]
    }
   ],
   "source": [
    "summarize_results('Avg NRMSE')"
   ]
  },
  {
   "cell_type": "code",
   "execution_count": 26,
   "id": "3676a1b3",
   "metadata": {},
   "outputs": [],
   "source": [
    "plot_results(summary_df, 'Avg NRMSE')"
   ]
  }
 ],
 "metadata": {
  "kernelspec": {
   "display_name": "Python 3",
   "language": "python",
   "name": "python3"
  },
  "language_info": {
   "codemirror_mode": {
    "name": "ipython",
    "version": 3
   },
   "file_extension": ".py",
   "mimetype": "text/x-python",
   "name": "python",
   "nbconvert_exporter": "python",
   "pygments_lexer": "ipython3",
   "version": "3.9.5"
  }
 },
 "nbformat": 4,
 "nbformat_minor": 5
}
