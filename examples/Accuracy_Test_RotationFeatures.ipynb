{
 "cells": [
  {
   "cell_type": "code",
   "execution_count": 1,
   "id": "9c7c3613",
   "metadata": {},
   "outputs": [],
   "source": [
    "import pandas as pd\n",
    "import numpy as np\n",
    "from sklearn import tree\n",
    "from sklearn.pipeline import Pipeline\n",
    "from warnings import filterwarnings\n",
    "import matplotlib.pyplot as plt\n",
    "\n",
    "# todo: explain how to pip install DatasetsEvaluator, point to github page\n",
    "\n",
    "# todo: put back when done -- update datasets evaluator on pypi and retest -- i added the drop=True\n",
    "#from DatasetsEvaluator import DatasetsEvaluator as de\n",
    "\n",
    "# Todo: remove once have pip install\n",
    "import sys  \n",
    "sys.path.insert(0, 'C:\\python_projects\\RotationFeatures_project\\RotationFeatures')\n",
    "from RotationFeatures import RotationFeatures # todo: fix once have pip install\n",
    "\n",
    "sys.path.insert(0, 'C:\\python_projects\\DatasetsEvaluator_project\\DatasetsEvaluator')\n",
    "import DatasetsEvaluator as de\n",
    "\n",
    "filterwarnings('ignore')\n",
    "np.random.seed(0)"
   ]
  },
  {
   "cell_type": "code",
   "execution_count": 2,
   "id": "43078e09",
   "metadata": {},
   "outputs": [],
   "source": [
    "cache_folder = \"c:\\dataset_cache\"\n",
    "partial_result_folder = \"c:\\\\intermediate_results\""
   ]
  },
  {
   "cell_type": "markdown",
   "id": "fe98d5d7",
   "metadata": {},
   "source": [
    "## Constants Used to Control the Tests Below"
   ]
  },
  {
   "cell_type": "code",
   "execution_count": 3,
   "id": "16e9a0d0",
   "metadata": {},
   "outputs": [],
   "source": [
    "# These specify how many datasets are used in the tests below. Ideally about 50 to 100 datasets would be used,\n",
    "# but these may be set lower. Set to 0 to skip tests. \n",
    "\n",
    "NUM_DATASETS_CLASSIFICATION_DEFAULT = 100\n",
    "NUM_DATASETS_REGRESSION_DEFAULT = 100\n",
    "NUM_DATASETS_CLASSIFICATION_GRID_SEARCH = 50\n",
    "NUM_DATASETS_REGRESSION_GRID_SEARCH = 50"
   ]
  },
  {
   "cell_type": "markdown",
   "id": "f4820faf",
   "metadata": {},
   "source": [
    "# Classification Tests -- With Default Parameters"
   ]
  },
  {
   "cell_type": "markdown",
   "id": "1ec71623",
   "metadata": {},
   "source": [
    "## Define the set of datasets on openml we will test against"
   ]
  },
  {
   "cell_type": "code",
   "execution_count": 4,
   "id": "6830733e",
   "metadata": {},
   "outputs": [],
   "source": [
    "datasets_tester = de.DatasetsTester()\n",
    "\n",
    "matching_datasets = datasets_tester.find_datasets( \n",
    "    problem_type = \"classification\",\n",
    "    min_num_classes = 2,\n",
    "    max_num_classes = 20,\n",
    "    min_num_minority_class = 5,\n",
    "    max_num_minority_class = np.inf,\n",
    "    min_num_features = 0,\n",
    "    max_num_features = np.inf,\n",
    "    min_num_instances = 500,\n",
    "    max_num_instances = 5_000,\n",
    "    min_num_numeric_features = 2,\n",
    "    max_num_numeric_features = 50,\n",
    "    min_num_categorical_features=0,\n",
    "    max_num_categorical_features=50)"
   ]
  },
  {
   "cell_type": "markdown",
   "id": "5c99f9f5",
   "metadata": {},
   "source": [
    "## Collect the datasets and run the tests"
   ]
  },
  {
   "cell_type": "code",
   "execution_count": 5,
   "id": "e654e8dc",
   "metadata": {},
   "outputs": [
    {
     "name": "stdout",
     "output_type": "stream",
     "text": [
      "Reading from local cache: 0, id: 15, name: breast-w\n",
      "Reading from local cache: 1, id: 29, name: credit-approval\n",
      "Reading from local cache: 2, id: 31, name: credit-g\n",
      "Reading from local cache: 3, id: 37, name: diabetes\n",
      "Reading from local cache: 4, id: 38, name: sick\n",
      "Reading from local cache: 5, id: 181, name: yeast\n",
      "Reading from local cache: 6, id: 185, name: baseball\n",
      "Reading from local cache: 7, id: 311, name: oil_spill\n",
      "Reading from local cache: 8, id: 451, name: irish\n",
      "Reading from local cache: 9, id: 470, name: profb\n",
      "Reading from local cache: 10, id: 679, name: rmftsa_sleepdata\n",
      "Reading from local cache: 11, id: 715, name: fri_c3_1000_25\n",
      "Reading from local cache: 12, id: 717, name: rmftsa_ladata\n",
      "Reading from local cache: 13, id: 723, name: fri_c4_1000_25\n",
      "Reading from local cache: 14, id: 728, name: analcatdata_supreme\n",
      "Reading from local cache: 15, id: 737, name: space_ga\n",
      "Reading from local cache: 16, id: 740, name: fri_c3_1000_10\n",
      "Reading from local cache: 17, id: 743, name: fri_c1_1000_5\n",
      "Reading from local cache: 18, id: 749, name: fri_c3_500_5\n",
      "Reading from local cache: 19, id: 750, name: pm10\n",
      "Reading from local cache: 20, id: 751, name: fri_c4_1000_10\n",
      "Reading from local cache: 21, id: 757, name: meta\n",
      "Reading from local cache: 22, id: 766, name: fri_c1_500_50\n",
      "Reading from local cache: 23, id: 770, name: strikes\n",
      "Reading from local cache: 24, id: 772, name: quake\n",
      "Reading from local cache: 25, id: 774, name: disclosure_x_bias\n",
      "Reading from local cache: 26, id: 779, name: fri_c1_500_25\n",
      "Reading from local cache: 27, id: 792, name: fri_c2_500_5\n",
      "Reading from local cache: 28, id: 795, name: disclosure_x_tampered\n",
      "Reading from local cache: 29, id: 797, name: fri_c4_1000_50\n",
      "Reading from local cache: 30, id: 799, name: fri_c0_1000_5\n",
      "Reading from local cache: 31, id: 802, name: pbcseq\n",
      "Reading from local cache: 32, id: 805, name: fri_c4_500_50\n",
      "Reading from local cache: 33, id: 806, name: fri_c3_1000_50\n",
      "Reading from local cache: 34, id: 813, name: fri_c3_1000_5\n",
      "Reading from local cache: 35, id: 824, name: fri_c1_500_10\n",
      "Reading from local cache: 36, id: 825, name: boston_corrected\n",
      "Reading from local cache: 37, id: 827, name: disclosure_x_noise\n",
      "Reading from local cache: 38, id: 837, name: fri_c1_1000_50\n",
      "Reading from local cache: 39, id: 838, name: fri_c4_500_25\n",
      "Reading from local cache: 40, id: 839, name: kdd_el_nino-small\n",
      "Reading from local cache: 41, id: 841, name: stock\n",
      "Reading from local cache: 42, id: 845, name: fri_c0_1000_10\n",
      "Reading from local cache: 43, id: 849, name: fri_c0_1000_25\n",
      "Reading from local cache: 44, id: 853, name: boston\n",
      "Reading from local cache: 45, id: 855, name: fri_c4_500_10\n",
      "Reading from local cache: 46, id: 866, name: fri_c2_1000_50\n",
      "Reading from local cache: 47, id: 869, name: fri_c2_500_10\n",
      "Reading from local cache: 48, id: 870, name: fri_c1_500_5\n",
      "Reading from local cache: 49, id: 871, name: pollen\n",
      "Reading from local cache: 50, id: 879, name: fri_c2_500_25\n",
      "Reading from local cache: 51, id: 884, name: fri_c0_500_5\n",
      "Reading from local cache: 52, id: 886, name: no2\n",
      "Reading from local cache: 53, id: 888, name: fri_c0_500_50\n",
      "Reading from local cache: 54, id: 896, name: fri_c3_500_25\n",
      "Reading from local cache: 55, id: 897, name: colleges_aaup\n",
      "Reading from local cache: 56, id: 903, name: fri_c2_1000_25\n",
      "Reading from local cache: 57, id: 904, name: fri_c0_1000_50\n",
      "Reading from local cache: 58, id: 910, name: fri_c1_1000_10\n",
      "Reading from local cache: 59, id: 912, name: fri_c2_1000_5\n",
      "Reading from local cache: 60, id: 913, name: fri_c2_1000_10\n",
      "Reading from local cache: 61, id: 917, name: fri_c1_1000_25\n",
      "Reading from local cache: 62, id: 920, name: fri_c2_500_50\n",
      "Reading from local cache: 63, id: 926, name: fri_c0_500_25\n",
      "Reading from local cache: 64, id: 930, name: colleges_usnews\n",
      "Reading from local cache: 65, id: 931, name: disclosure_z\n",
      "Reading from local cache: 66, id: 936, name: fri_c3_500_10\n",
      "Reading from local cache: 67, id: 937, name: fri_c3_500_50\n",
      "Reading from local cache: 68, id: 940, name: water-treatment\n",
      "Reading from local cache: 69, id: 943, name: fri_c0_500_10\n",
      "Reading from local cache: 70, id: 947, name: arsenic-male-bladder\n",
      "Reading from local cache: 71, id: 949, name: arsenic-female-bladder\n",
      "Reading from local cache: 72, id: 950, name: arsenic-female-lung\n",
      "Reading from local cache: 73, id: 951, name: arsenic-male-lung\n",
      "Reading from local cache: 74, id: 962, name: mfeat-morphological\n",
      "Reading from local cache: 75, id: 966, name: analcatdata_halloffame\n",
      "Reading from local cache: 76, id: 979, name: waveform-5000\n",
      "Reading from local cache: 77, id: 983, name: cmc\n",
      "Reading from local cache: 78, id: 987, name: collins\n",
      "Reading from local cache: 79, id: 989, name: anneal\n",
      "Reading from local cache: 80, id: 990, name: eucalyptus\n",
      "Reading from local cache: 81, id: 994, name: vehicle\n",
      "Reading from local cache: 82, id: 995, name: mfeat-zernike\n",
      "Reading from local cache: 83, id: 997, name: balance-scale\n",
      "Reading from local cache: 84, id: 1000, name: hypothyroid\n",
      "Reading from local cache: 85, id: 1016, name: vowel\n",
      "Reading from local cache: 86, id: 1037, name: ada_prior\n",
      "Reading from local cache: 87, id: 1049, name: pc4\n",
      "Reading from local cache: 88, id: 1050, name: pc3\n",
      "Reading from local cache: 89, id: 1063, name: kc2\n",
      "Reading from local cache: 90, id: 1067, name: kc1\n",
      "Reading from local cache: 91, id: 1068, name: pc1\n",
      "Reading from local cache: 92, id: 1443, name: PizzaCutter1\n",
      "Reading from local cache: 93, id: 1444, name: PizzaCutter3\n",
      "Reading from local cache: 94, id: 1451, name: PieChart1\n",
      "Reading from local cache: 95, id: 1452, name: PieChart2\n",
      "Reading from local cache: 96, id: 1453, name: PieChart3\n",
      "Reading from local cache: 97, id: 1462, name: banknote-authentication\n",
      "Reading from local cache: 98, id: 1464, name: blood-transfusion-service-center\n",
      "Reading from local cache: 99, id: 1480, name: ilpd\n"
     ]
    }
   ],
   "source": [
    "# todo: get this working, then update datasetsEvaluator & this on github & pypi\n",
    "datasets_tester.collect_data(max_num_datasets_used=NUM_DATASETS_CLASSIFICATION_DEFAULT, \n",
    "                             preview_data=False, \n",
    "                             save_local_cache=True,\n",
    "                             check_local_cache=True,\n",
    "                             path_local_cache=cache_folder)\n",
    " "
   ]
  },
  {
   "cell_type": "code",
   "execution_count": null,
   "id": "f8a32897",
   "metadata": {
    "scrolled": false
   },
   "outputs": [],
   "source": [
    "pipe1 = Pipeline([('dt', tree.DecisionTreeClassifier(random_state=0))])\n",
    "pipe2 = Pipeline([('rota', RotationFeatures()), ('dt', tree.DecisionTreeClassifier(random_state=0))])\n",
    "\n",
    "# This provides an example using some non-default parameters. \n",
    "summary_df = datasets_tester.run_tests(estimators_arr = [\n",
    "                                        (\"DT\", \"Original Features\", \"Default\", pipe1),\n",
    "                                        (\"DT\", \"Rotation-based Features\", \"Default\", pipe2)],\n",
    "                                       num_cv_folds=3,\n",
    "                                       show_warnings=False,\n",
    "                                       partial_result_folder=partial_result_folder) \n",
    "\n",
    "display(summary_df)"
   ]
  },
  {
   "cell_type": "markdown",
   "id": "c049c44a",
   "metadata": {},
   "source": [
    "## Summarize the results in a table"
   ]
  },
  {
   "cell_type": "code",
   "execution_count": null,
   "id": "2b1f838f",
   "metadata": {},
   "outputs": [],
   "source": [
    "def summarize_results(accuracy_metric, show_std_dev=False):\n",
    "    if (len(summary_df)==0):\n",
    "        return\n",
    "    p = pd.DataFrame(summary_df.groupby(['Model', 'Feature Engineering Description'])[accuracy_metric].mean())\n",
    "    if (show_std_dev):\n",
    "        p['Avg. Std dev between folds'] = summary_df.groupby(['Model', 'Feature Engineering Description'])['Std dev between folds'].mean()\n",
    "    p['Avg. Train-Test Gap'] = summary_df.groupby(['Model', 'Feature Engineering Description'])['Train-Test Gap'].mean()\n",
    "    p['Avg. Fit Time'] = summary_df.groupby(['Model', 'Feature Engineering Description'])['Fit Time'].mean()\n",
    "    p['Avg. Complexity'] = summary_df.groupby(['Model', 'Feature Engineering Description'])['Model Complexity'].mean()\n",
    "    display(p)    "
   ]
  },
  {
   "cell_type": "code",
   "execution_count": null,
   "id": "9be498dd",
   "metadata": {},
   "outputs": [],
   "source": [
    "summarize_results('Avg f1_macro')"
   ]
  },
  {
   "cell_type": "markdown",
   "id": "25026f9a",
   "metadata": {},
   "source": [
    "## Graph the Results"
   ]
  },
  {
   "cell_type": "code",
   "execution_count": null,
   "id": "8ca5e4b2",
   "metadata": {},
   "outputs": [],
   "source": [
    "def plot_results(summary_df, accuracy_metric):\n",
    "    if (len(summary_df)==0):\n",
    "        return\n",
    "    \n",
    "    # Collect the set of all combinations of model type and feature engineering. In this example, there\n",
    "    # should just be the two.\n",
    "    combinations_df = summary_df.groupby(['Model', 'Feature Engineering Description']).size().reset_index()\n",
    "\n",
    "    summary_df = summary_df.dropna(subset=[accuracy_metric])\n",
    "\n",
    "    # Draw a single plot, with a line for each feature engineering description. Along the x-axis we have each\n",
    "    # dataset ordered by lowest to highest score when using the original features. \n",
    "    fig_width = min(len(summary_df)/4, 20)\n",
    "    fig_width = max(fig_width, 5)\n",
    "    fig, ax = plt.subplots(nrows=1, ncols=1, figsize=(fig_width,5))\n",
    "    for row_idx in range(len(combinations_df)):\n",
    "        m = combinations_df.iloc[row_idx]['Model']\n",
    "        h = combinations_df.iloc[row_idx]['Feature Engineering Description']\n",
    "\n",
    "        # Get the subset of summary_df for the current feature engineering method. \n",
    "        if (row_idx==0):\n",
    "            subset_df_1 = summary_df[(summary_df['Model']==m) & (summary_df['Feature Engineering Description']==h)].sort_values(by=accuracy_metric).reset_index()\n",
    "            x_coords = subset_df_1.index        \n",
    "            y_coords = subset_df_1[accuracy_metric]\n",
    "        else:\n",
    "            subset_df_2 = summary_df[(summary_df['Model']==m) & (summary_df['Feature Engineering Description']==h)]\n",
    "            y_coords = []\n",
    "            for i in range(len(subset_df_1)):\n",
    "                ds = subset_df_1.iloc[i]['Dataset']\n",
    "                y_coords.append(subset_df_2[subset_df_2['Dataset']==ds][accuracy_metric])\n",
    "        ax.plot(x_coords, y_coords, label=m + \"(\" + h + \")\")\n",
    "    t = subset_df_1['Dataset']\n",
    "    plt.xticks(range(len(t)), t, size='small', rotation=55)            \n",
    "    plt.legend()\n",
    "    plt.title(accuracy_metric + \" by dataset\")\n",
    "    plt.show()"
   ]
  },
  {
   "cell_type": "code",
   "execution_count": null,
   "id": "59c1124f",
   "metadata": {},
   "outputs": [],
   "source": [
    "plot_results(summary_df, 'Avg f1_macro')"
   ]
  },
  {
   "cell_type": "markdown",
   "id": "e1497b0d",
   "metadata": {},
   "source": [
    "## 2nd Classification Test -- Holding the tree depth to 5"
   ]
  },
  {
   "cell_type": "code",
   "execution_count": null,
   "id": "8b77ede0",
   "metadata": {
    "scrolled": true
   },
   "outputs": [
    {
     "name": "stdout",
     "output_type": "stream",
     "text": [
      "\n",
      "Running test on 100 datastets\n",
      "Running tests on dataset index: 58, dataset: fri_c1_1000_10\n",
      "\tRunning tests with model: DT (Original Features), (Default)\n",
      "\tRunning tests with model: DT (Rotation-based Features), (Default)\n",
      "Running tests on dataset index: 59, dataset: fri_c2_1000_5\n",
      "\tRunning tests with model: DT (Original Features), (Default)\n",
      "\tRunning tests with model: DT (Rotation-based Features), (Default)\n",
      "Running tests on dataset index: 60, dataset: fri_c2_1000_10\n",
      "\tRunning tests with model: DT (Original Features), (Default)\n",
      "\tRunning tests with model: DT (Rotation-based Features), (Default)\n",
      "Running tests on dataset index: 61, dataset: fri_c1_1000_25\n",
      "\tRunning tests with model: DT (Original Features), (Default)\n",
      "\tRunning tests with model: DT (Rotation-based Features), (Default)\n"
     ]
    }
   ],
   "source": [
    "pipe1 = Pipeline([('dt', tree.DecisionTreeClassifier(max_depth=5, random_state=0))])\n",
    "pipe2 = Pipeline([('rota', RotationFeatures()), ('dt', tree.DecisionTreeClassifier(max_depth=5, random_state=0))])\n",
    "\n",
    "# This provides an example using some non-default parameters. \n",
    "summary_df = datasets_tester.run_tests(estimators_arr = [\n",
    "                                        (\"DT\", \"Original Features\", \"Default\", pipe1),\n",
    "                                        (\"DT\", \"Rotation-based Features\", \"Default\", pipe2)],\n",
    "                                       num_cv_folds=3,\n",
    "                                       show_warnings=False,\n",
    "                                       starting_point=58,\n",
    "                                       partial_result_folder=partial_result_folder) \n",
    "\n",
    "display(summary_df)"
   ]
  },
  {
   "cell_type": "code",
   "execution_count": null,
   "id": "84fe9002",
   "metadata": {},
   "outputs": [],
   "source": [
    "summarize_results('Avg f1_macro')"
   ]
  },
  {
   "cell_type": "code",
   "execution_count": null,
   "id": "b5c0dc3b",
   "metadata": {},
   "outputs": [],
   "source": [
    "plot_results(summary_df, 'Avg f1_macro')"
   ]
  },
  {
   "cell_type": "markdown",
   "id": "b1a8b0b3",
   "metadata": {},
   "source": [
    "# Regression Tests - With Default Parameters"
   ]
  },
  {
   "cell_type": "code",
   "execution_count": null,
   "id": "9502a42c",
   "metadata": {},
   "outputs": [],
   "source": [
    "datasets_tester = de.DatasetsTester()\n",
    "\n",
    "matching_datasets = datasets_tester.find_datasets( \n",
    "    problem_type = \"regression\",\n",
    "    min_num_features = 0,\n",
    "    max_num_features = np.inf,\n",
    "    min_num_instances = 500,\n",
    "    max_num_instances = 5_000,\n",
    "    min_num_numeric_features = 2,\n",
    "    max_num_numeric_features = 50,\n",
    "    min_num_categorical_features=0,\n",
    "    max_num_categorical_features=50)"
   ]
  },
  {
   "cell_type": "code",
   "execution_count": null,
   "id": "3732de74",
   "metadata": {
    "scrolled": false
   },
   "outputs": [],
   "source": [
    "datasets_tester.collect_data(max_num_datasets_used=NUM_DATASETS_REGRESSION_DEFAULT, \n",
    "                             preview_data=False, \n",
    "                             save_local_cache=True,\n",
    "                             check_local_cache=True,\n",
    "                             path_local_cache=cache_folder)\n",
    " \n",
    "\n",
    "pipe1 = Pipeline([('dt', tree.DecisionTreeRegressor(random_state=0))])\n",
    "pipe2 = Pipeline([('rota', RotationFeatures()), ('dt', tree.DecisionTreeRegressor(random_state=0))])\n",
    "\n",
    "summary_df = datasets_tester.run_tests(estimators_arr = [\n",
    "                                        (\"DT\", \"Original Features\", \"Default\", pipe1),\n",
    "                                        (\"DT\", \"Rotation-based Features\", \"Default\", pipe2)],\n",
    "                                       num_cv_folds=3,\n",
    "                                       show_warnings=True,\n",
    "                                       partial_result_folder=partial_result_folder) \n",
    "\n",
    "display(summary_df)"
   ]
  },
  {
   "cell_type": "code",
   "execution_count": null,
   "id": "01c76607",
   "metadata": {},
   "outputs": [],
   "source": [
    "summarize_results('Avg NRMSE')"
   ]
  },
  {
   "cell_type": "code",
   "execution_count": null,
   "id": "3ab5ebb6",
   "metadata": {},
   "outputs": [],
   "source": [
    "plot_results(summary_df, 'Avg NRMSE')"
   ]
  },
  {
   "cell_type": "markdown",
   "id": "959c29c5",
   "metadata": {},
   "source": [
    "## 2nd Regression Test -- Holding the tree depth to 5"
   ]
  },
  {
   "cell_type": "code",
   "execution_count": null,
   "id": "25efb3e2",
   "metadata": {
    "scrolled": false
   },
   "outputs": [],
   "source": [
    "# remove once working & use the same set of 100 files\n",
    "# datasets_tester.collect_data(max_num_datasets_used=NUM_DATASETS_REGRESSION_DEFAULT, \n",
    "#                              preview_data=False, \n",
    "#                              save_local_cache=True,\n",
    "#                              check_local_cache=True,\n",
    "#                              path_local_cache=cache_folder)\n",
    " \n",
    "pipe1 = Pipeline([('dt', tree.DecisionTreeRegressor(max_depth=5, random_state=0))])\n",
    "pipe2 = Pipeline([('rota', RotationFeatures()), ('dt', tree.DecisionTreeRegressor(max_depth=5, random_state=0))])\n",
    "\n",
    "summary_df = datasets_tester.run_tests(estimators_arr = [\n",
    "                                        (\"DT\", \"Original Features\", \"Default\", pipe1),\n",
    "                                        (\"DT\", \"Rotation-based Features\", \"Default\", pipe2)],\n",
    "                                       num_cv_folds=3,\n",
    "                                       show_warnings=True,\n",
    "                                       partial_result_folder=partial_result_folder) \n",
    "\n",
    "display(summary_df)"
   ]
  },
  {
   "cell_type": "code",
   "execution_count": null,
   "id": "456178bf",
   "metadata": {},
   "outputs": [],
   "source": [
    "summarize_results('Avg NRMSE')"
   ]
  },
  {
   "cell_type": "code",
   "execution_count": null,
   "id": "5adfe906",
   "metadata": {},
   "outputs": [],
   "source": [
    "plot_results(summary_df, 'Avg NRMSE')"
   ]
  },
  {
   "cell_type": "markdown",
   "id": "28b88d31",
   "metadata": {},
   "source": [
    "# Classification Tests -- Using CVGridSearch to determine the hyperparameters"
   ]
  },
  {
   "cell_type": "code",
   "execution_count": null,
   "id": "9e6bce94",
   "metadata": {
    "scrolled": false
   },
   "outputs": [],
   "source": [
    "# As this takes much longer than testing with the default parameters, we test with fewer datasets. Note though,\n",
    "# run_tests_grid_search() uses CV to evaluate the grid search for the best hyperparameters, it does a train-test \n",
    "# split on the data for evaluation, so evaluates the predictions quickly, though with more variability than if\n",
    "# using CV to evaluate as well. \n",
    "\n",
    "# todo: display the best hyperparameters too\n",
    "\n",
    "datasets_tester = de.DatasetsTester()\n",
    "\n",
    "matching_datasets = datasets_tester.find_datasets(problem_type = \"classification\")\n",
    "\n",
    "datasets_tester.collect_data(max_num_datasets_used=NUM_DATASETS_CLASSIFICATION_GRID_SEARCH, \n",
    "                             preview_data=False, \n",
    "                             save_local_cache=True,\n",
    "                             check_local_cache=True,\n",
    "                             path_local_cache=cache_folder)\n",
    "\n",
    "orig_parameters = {\n",
    "     'dt__max_depth': (3,4,5,6,100)\n",
    "}\n",
    "\n",
    "rota_parameters = {\n",
    "    'rota__degree_increment': (3,4,10,15,30), \n",
    "#     'dt__max_depth': (3,4,5,6)\n",
    "}\n",
    "\n",
    "orig_pipe = Pipeline([('dt', tree.DecisionTreeClassifier())])\n",
    "rota_pipe = Pipeline([('rota', RotationFeatures()), ('dt', tree.DecisionTreeClassifier())])\n",
    "\n",
    "# This provides an example using some non-default parameters. \n",
    "summary_df = datasets_tester.run_tests_grid_search(\n",
    "        estimators_arr = [\n",
    "            (\"DT\", \"Original Features\", \"\", orig_pipe),\n",
    "            (\"DT\", \"Rotation-based Features\", \"\", rota_pipe)],\n",
    "        parameters_arr=[orig_parameters, rota_parameters],\n",
    "        num_cv_folds=3,\n",
    "        show_warnings=False,\n",
    "        partial_result_folder=partial_result_folder) \n",
    "\n",
    "display(summary_df)\n"
   ]
  },
  {
   "cell_type": "code",
   "execution_count": null,
   "id": "089aadab",
   "metadata": {},
   "outputs": [],
   "source": [
    "summarize_results('f1_macro', show_std_dev=False)"
   ]
  },
  {
   "cell_type": "code",
   "execution_count": null,
   "id": "7db9cbc6",
   "metadata": {},
   "outputs": [],
   "source": [
    "plot_results(summary_df, 'f1_macro')"
   ]
  },
  {
   "cell_type": "markdown",
   "id": "5dfb4050",
   "metadata": {},
   "source": [
    "## Regression Tests -- Using CVGridSearch to determine the hyperparameters"
   ]
  },
  {
   "cell_type": "code",
   "execution_count": null,
   "id": "052888ae",
   "metadata": {},
   "outputs": [],
   "source": [
    "# As this takes much longer than testing with the default parameters, we test with fewer datasets. Note though,\n",
    "# run_tests_grid_search() uses CV to evaluate the grid search for the best hyperparameters, it does a train-test \n",
    "# split on the data for evaluation, so evaluates the predictions quickly, though with more variability than if\n",
    "# using CV to evaluate as well. \n",
    "\n",
    "\n",
    "# todo: display the best hyperparameters too\n",
    "\n",
    "datasets_tester = de.DatasetsTester()\n",
    "\n",
    "matching_datasets = datasets_tester.find_datasets(problem_type = \"regression\")\n",
    "\n",
    "datasets_tester.collect_data(max_num_datasets_used=NUM_DATASETS_REGRESSION_GRID_SEARCH, \n",
    "                             preview_data=False, \n",
    "                             save_local_cache=True,\n",
    "                             check_local_cache=True,\n",
    "                             path_local_cache=cache_folder)\n",
    "\n",
    "orig_parameters = {\n",
    "     'dt__max_depth': (3,4,5,6)\n",
    "}\n",
    "\n",
    "rota_parameters = {\n",
    "     'rota__degree_increment': (3,4,10,15,30),\n",
    "     'dt__max_depth': (3,4,5,6)\n",
    "}\n",
    "\n",
    "orig_pipe = Pipeline([('dt', tree.DecisionTreeClassifier())])\n",
    "rota_pipe = Pipeline([('rota', RotationFeatures()), ('dt', tree.DecisionTreeClassifier())])\n",
    "\n",
    "# This provides an example using some non-default parameters. \n",
    "summary_df = datasets_tester.run_tests_grid_search(\n",
    "        estimators_arr = [\n",
    "            (\"DT\", \"Original Features\", \"\", orig_pipe),\n",
    "            (\"DT\", \"Rotation-based Features\", \"\", rota_pipe)],\n",
    "        parameters_arr=[orig_parameters, rota_parameters],\n",
    "        num_cv_folds=3,\n",
    "        show_warnings=False,\n",
    "        partial_result_folder=partial_result_folder) \n",
    "\n",
    "display(summary_df)\n"
   ]
  },
  {
   "cell_type": "code",
   "execution_count": null,
   "id": "bf4c11ae",
   "metadata": {},
   "outputs": [],
   "source": [
    "summarize_results('Avg NRMSE')"
   ]
  },
  {
   "cell_type": "code",
   "execution_count": null,
   "id": "3676a1b3",
   "metadata": {},
   "outputs": [],
   "source": [
    "plot_results(summary_df, 'Avg NRMSE')"
   ]
  },
  {
   "cell_type": "code",
   "execution_count": null,
   "id": "6ab78dc8",
   "metadata": {},
   "outputs": [],
   "source": []
  }
 ],
 "metadata": {
  "kernelspec": {
   "display_name": "Python 3",
   "language": "python",
   "name": "python3"
  },
  "language_info": {
   "codemirror_mode": {
    "name": "ipython",
    "version": 3
   },
   "file_extension": ".py",
   "mimetype": "text/x-python",
   "name": "python",
   "nbconvert_exporter": "python",
   "pygments_lexer": "ipython3",
   "version": "3.9.5"
  }
 },
 "nbformat": 4,
 "nbformat_minor": 5
}
