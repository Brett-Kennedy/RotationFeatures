{
 "cells": [
  {
   "cell_type": "code",
   "execution_count": null,
   "id": "f6ac01a1",
   "metadata": {},
   "outputs": [],
   "source": [
    "%load_ext autoreload\n",
    "%autoreload 2"
   ]
  },
  {
   "cell_type": "code",
   "execution_count": null,
   "id": "abd2f70f",
   "metadata": {
    "scrolled": true
   },
   "outputs": [],
   "source": [
    "import pandas as pd\n",
    "import numpy as np\n",
    "from sklearn import tree\n",
    "from sklearn.datasets import load_iris, load_breast_cancer, load_wine\n",
    "from sklearn.model_selection import cross_validate, cross_val_score, train_test_split, GridSearchCV\n",
    "from sklearn.metrics import f1_score\n",
    "from sklearn.pipeline import Pipeline\n",
    "from statistics import mean, stdev\n",
    "\n",
    "# Todo: remove once have pip install\n",
    "import sys  \n",
    "sys.path.insert(0, 'C:\\python_projects\\RotationFeatures_project\\RotationFeatures')\n",
    "from RotationFeatures import RotationFeatures # todo: fix once have pip install\n",
    "\n",
    "np.random.seed(0)"
   ]
  },
  {
   "cell_type": "code",
   "execution_count": null,
   "id": "e9c9f188",
   "metadata": {},
   "outputs": [],
   "source": [
    "#todo:\n",
    "# do an accuracy test in another notebook with DatasetTester. Will be very similar to the one for ExtendedDecisionTree,\n",
    "# just minus the EDT."
   ]
  },
  {
   "cell_type": "markdown",
   "id": "85ebc2fb",
   "metadata": {},
   "source": [
    "## Methods to load data"
   ]
  },
  {
   "cell_type": "code",
   "execution_count": null,
   "id": "c71a29c7",
   "metadata": {},
   "outputs": [],
   "source": [
    "# This provides methods to test with 3 of the toy datasets provided by sklearn. These are used below\n",
    "# to test the accuracy of models using RotationFeatures.\n",
    "\n",
    "def get_iris():\n",
    "    iris = load_iris()\n",
    "    X, y = iris.data, iris.target\n",
    "    X = pd.DataFrame(X, columns=iris['feature_names'])\n",
    "    return X, y\n",
    "\n",
    "def get_breast_cancer():\n",
    "    X, y = load_breast_cancer(return_X_y=True, as_frame=True)\n",
    "    return X,y\n",
    "\n",
    "def get_wine():\n",
    "    X, y = load_wine(return_X_y=True, as_frame=True)\n",
    "    return X,y"
   ]
  },
  {
   "cell_type": "markdown",
   "id": "e625a4bc",
   "metadata": {},
   "source": [
    "## Examples 1 to 4: Simple examples using the RotationFeatures class"
   ]
  },
  {
   "cell_type": "code",
   "execution_count": null,
   "id": "cea94850",
   "metadata": {
    "scrolled": false
   },
   "outputs": [],
   "source": [
    "X,y = get_iris()\n",
    "rota = RotationFeatures(degree_increment=30)\n",
    "\n",
    "# Example 1: Using fit() then transform(), and get_feature_names()\n",
    "rota.fit(X)\n",
    "X1 = pd.DataFrame(rota.transform(X), columns=rota.get_feature_names())\n",
    "print(\"\\nExample 1:\")\n",
    "display(X1.head())  \n",
    "\n",
    "# Example 2: Using fit_transform() and get_params()\n",
    "X2 = pd.DataFrame(rota.fit_transform(X), columns= rota.get_feature_names())\n",
    "print(\"\\nExample 2:\")\n",
    "display(X2.head())\n",
    "print(\"Calling get_params(): \", rota.get_params())\n",
    "\n",
    "# Example 3: Using a two-column numpy array\n",
    "print(\"\\nExample 3:\")\n",
    "X = np.arange(6).reshape(3, 2)\n",
    "print(\"type of X: \", type(X))\n",
    "X3 = pd.DataFrame(rota.fit_transform(X), columns= rota.get_feature_names())\n",
    "display(X3.head())\n",
    "\n",
    "# Example 4: Using a two-column python matrix\n",
    "print(\"\\nExample 4:\")\n",
    "X = np.arange(6).reshape(3, 2).tolist()\n",
    "print(\"type of X: \", type(X))\n",
    "X4 = pd.DataFrame(rota.fit_transform(X), columns= rota.get_feature_names())\n",
    "display(X4.head())\n"
   ]
  },
  {
   "cell_type": "markdown",
   "id": "6ba93337",
   "metadata": {},
   "source": [
    "## Example 5: Comparing the accuracy when using the rotation-based generated features vs using only the original features."
   ]
  },
  {
   "cell_type": "code",
   "execution_count": null,
   "id": "a5711efe",
   "metadata": {},
   "outputs": [],
   "source": [
    "# Test sklearn's decision tree using either the original or the original plus the generated features. In most cases there\n",
    "# is an improvement in the f1 score, as well as a reduction in the variation between folds, and smaller decision trees, and \n",
    "# hence greater interpretability.\n",
    "\n",
    "def test_classification(X, y):\n",
    "    # The depth is limited to 5 in order to maintain the interpretability of the trees induced. \n",
    "    dt = tree.DecisionTreeClassifier(min_samples_split=50, max_depth=5, random_state=0)\n",
    "    scores = cross_validate(dt, X, y, cv=5, scoring='f1_macro', return_train_score=True, return_estimator=True)\n",
    "    test_scores = scores['test_score']\n",
    "    train_scores = scores['train_score']\n",
    "    score_name = \"f1_score: \"\n",
    "    avg_test_score = test_scores.mean()\n",
    "    scores_std_dev = stdev(test_scores)\n",
    "    avg_train_score = train_scores.mean()\n",
    "\n",
    "    estimators = scores['estimator']    \n",
    "    total_num_nodes = 0\n",
    "    for est in estimators:\n",
    "        total_num_nodes += est.tree_.node_count\n",
    "    avg_num_nodes = total_num_nodes / len(estimators)\n",
    "\n",
    "    print(\"\\n Average f1 score on training data: \", round(avg_train_score,3))\n",
    "    print(\" Average f1 score on test data: \", round(avg_test_score,3))\n",
    "    print(\" Std dev of f1 scores on test data: \", round(scores_std_dev,3))\n",
    "    print(\" Average number of nodes: \", round(avg_num_nodes,3))\n",
    "\n",
    "# Given a dataframe X, return an extended dataframe, having the same set of rows, but additional, generated columns\n",
    "def get_extended_X(X):\n",
    "    rota = RotationFeatures(degree_increment=30)\n",
    "    extended_X = pd.DataFrame(rota.fit_transform(X), columns= rota.get_feature_names())\n",
    "    return extended_X\n",
    "\n",
    "# Given a method to load a dataset, load the dataset and test the accuracy of a sklearn decision tree with and without\n",
    "# the extended features.\n",
    "def test_dataset(load_method, file_name):\n",
    "    print(\"\\n\\n*********************************************\")\n",
    "    print(\"Calling for \" + file_name)\n",
    "    print(\"*********************************************\")\n",
    "    \n",
    "    X,y = load_method()\n",
    "    print(\"\\nUsing original features only\")\n",
    "    test_classification(X, y)\n",
    "\n",
    "    print(\"\\nUsing rotation-based features\")\n",
    "    extended_X = get_extended_X(X)\n",
    "    test_classification(extended_X, y)\n",
    "    \n",
    "test_dataset(get_iris, \"Iris\")\n",
    "test_dataset(get_breast_cancer, \"Breast Cancer\")\n",
    "test_dataset(get_wine, \"Wine\")"
   ]
  },
  {
   "cell_type": "markdown",
   "id": "7975dcc7",
   "metadata": {},
   "source": [
    "## Example 6: Using an RotationFeatures in a sklearn pipeline"
   ]
  },
  {
   "cell_type": "code",
   "execution_count": null,
   "id": "0485bc08",
   "metadata": {
    "scrolled": true
   },
   "outputs": [],
   "source": [
    "X,y = get_iris()\n",
    "pipe = Pipeline([('rota', RotationFeatures()), ('dt', tree.DecisionTreeClassifier())])\n",
    "\n",
    "# Example getting the training score\n",
    "pipe.fit(X,y)\n",
    "sc = pipe.score(X,y)\n",
    "print('Training Accuracy: %.3f' % sc)\n",
    "\n",
    "# Example getting the cross validated accuracy\n",
    "n_scores = cross_val_score(pipe, X, y, scoring='accuracy', n_jobs=-1, error_score='raise')\n",
    "print('Cross validated Accuracy: %.3f (%.3f)' % (mean(n_scores), stdev(n_scores)))\n"
   ]
  },
  {
   "cell_type": "markdown",
   "id": "dcdcc41f",
   "metadata": {},
   "source": [
    "## Example 7: Using a pipeline a grid search to optimize the hyperparameters used by RotationFeatures and by the Decision Tree"
   ]
  },
  {
   "cell_type": "code",
   "execution_count": null,
   "id": "b4d148c9",
   "metadata": {
    "scrolled": false
   },
   "outputs": [],
   "source": [
    "X_train, X_test, y_train, y_test = train_test_split(X, y, random_state=42)\n",
    "\n",
    "parameters = {\n",
    "     'rota__degree_increment': (10,15,30),\n",
    "     'dt__max_depth': (3,4,5)\n",
    "}\n",
    "\n",
    "gs_clf = GridSearchCV(pipe, parameters)\n",
    "gs_clf.fit(X_train, y_train)\n",
    "s = gs_clf.score(X_test, y_test)\n",
    "print(\"score: \", s)\n",
    "b = gs_clf.best_params_\n",
    "b\n"
   ]
  },
  {
   "cell_type": "markdown",
   "id": "186f88a5",
   "metadata": {},
   "source": [
    "## Example 8: Specifying the maximum number of output columns"
   ]
  },
  {
   "cell_type": "code",
   "execution_count": null,
   "id": "622c216f",
   "metadata": {},
   "outputs": [],
   "source": [
    "# It's possible to specify the maximum number of columns that may be created by the RotationFeatures tool. \n",
    "\n",
    "X,y = get_iris()\n",
    "\n",
    "# First example: Using 45 degree increments, few enough columns are created\n",
    "rota_45= RotationFeatures(degree_increment=45, max_cols_created=20)\n",
    "X_45 = pd.DataFrame(rota_45.fit_transform(X))\n",
    "dt = tree.DecisionTreeClassifier(min_samples_split=50, max_depth=5, random_state=0)\n",
    "scores = cross_validate(dt, X_45, y, cv=5, scoring='f1_macro')\n",
    "test_scores = scores['test_score']\n",
    "avg_test_score = test_scores.mean()\n",
    "print(\"Number of output features: \", rota.n_output_features_ )\n",
    "print(\"Average f1 score on test data: \", round(avg_test_score,3))"
   ]
  },
  {
   "cell_type": "code",
   "execution_count": null,
   "id": "23b56208",
   "metadata": {},
   "outputs": [],
   "source": [
    "# Second example: Using 5 degree increments, few enough columns are created. This will throw an exception. \n",
    "rota_5= RotationFeatures(degree_increment=5, max_cols_created=20)\n",
    "X_5 = pd.DataFrame(rota_5.fit_transform(X))\n",
    "dt = tree.DecisionTreeClassifier(min_samples_split=50, max_depth=5, random_state=0)\n",
    "scores = cross_validate(dt, X_5, y, cv=5, scoring='f1_macro')\n",
    "test_scores = scores['test_score']\n",
    "avg_test_score = test_scores.mean()\n",
    "print(\"Average f1 score on test data: \", round(avg_test_score,3))"
   ]
  },
  {
   "cell_type": "code",
   "execution_count": null,
   "id": "14dc3c01",
   "metadata": {},
   "outputs": [],
   "source": []
  }
 ],
 "metadata": {
  "kernelspec": {
   "display_name": "Python 3",
   "language": "python",
   "name": "python3"
  },
  "language_info": {
   "codemirror_mode": {
    "name": "ipython",
    "version": 3
   },
   "file_extension": ".py",
   "mimetype": "text/x-python",
   "name": "python",
   "nbconvert_exporter": "python",
   "pygments_lexer": "ipython3",
   "version": "3.9.5"
  }
 },
 "nbformat": 4,
 "nbformat_minor": 5
}
